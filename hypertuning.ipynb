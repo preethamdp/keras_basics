{
 "cells": [
  {
   "cell_type": "code",
   "execution_count": 1,
   "metadata": {},
   "outputs": [],
   "source": [
    "import tensorflow as tf\n",
    "from tensorflow import keras\n",
    "\n",
    "import IPython"
   ]
  },
  {
   "cell_type": "code",
   "execution_count": 2,
   "metadata": {},
   "outputs": [],
   "source": [
    "!pip install -q -U keras-tuner\n",
    "import kerastuner as kt"
   ]
  },
  {
   "cell_type": "code",
   "execution_count": 4,
   "metadata": {},
   "outputs": [],
   "source": [
    "(img_train, label_train), (img_test, label_test) = keras.datasets.fashion_mnist.load_data()\n"
   ]
  },
  {
   "cell_type": "code",
   "execution_count": 5,
   "metadata": {},
   "outputs": [],
   "source": [
    "# Normalize pixel values between 0 and 1\n",
    "img_train = img_train.astype('float32') / 255.0\n",
    "img_test = img_test.astype('float32') / 255.0"
   ]
  },
  {
   "cell_type": "code",
   "execution_count": 6,
   "metadata": {},
   "outputs": [],
   "source": [
    "def model_builder(hp):\n",
    "  model = keras.Sequential()\n",
    "  model.add(keras.layers.Flatten(input_shape=(28, 28)))\n",
    "  \n",
    "  # Tune the number of units in the first Dense layer\n",
    "  # Choose an optimal value between 32-512\n",
    "  hp_units = hp.Int('units', min_value = 32, max_value = 512, step = 32)\n",
    "  model.add(keras.layers.Dense(units = hp_units, activation = 'relu'))\n",
    "  model.add(keras.layers.Dense(10))\n",
    "\n",
    "  # Tune the learning rate for the optimizer \n",
    "  # Choose an optimal value from 0.01, 0.001, or 0.0001\n",
    "  hp_learning_rate = hp.Choice('learning_rate', values = [1e-2, 1e-3, 1e-4]) \n",
    "  \n",
    "  model.compile(optimizer = keras.optimizers.Adam(learning_rate = hp_learning_rate),\n",
    "                loss = keras.losses.SparseCategoricalCrossentropy(from_logits = True), \n",
    "                metrics = ['accuracy'])\n",
    "  \n",
    "  return model"
   ]
  },
  {
   "cell_type": "code",
   "execution_count": 9,
   "metadata": {},
   "outputs": [],
   "source": [
    "tuner = kt.Hyperband(model_builder,\n",
    "                     objective = 'val_accuracy', \n",
    "                     max_epochs = 10,\n",
    "                     factor = 3,\n",
    "                     directory = 'my_dir',\n",
    "                     project_name = 'intro_to_kt')                       "
   ]
  },
  {
   "cell_type": "code",
   "execution_count": 8,
   "metadata": {},
   "outputs": [],
   "source": [
    "class ClearTrainingOutput(tf.keras.callbacks.Callback):\n",
    "  def on_train_end(*args, **kwargs):\n",
    "    IPython.display.clear_output(wait = True)"
   ]
  },
  {
   "cell_type": "code",
   "execution_count": 10,
   "metadata": {},
   "outputs": [
    {
     "data": {
      "text/html": [
       "<span style=\"color:#4527A0\"><h1 style=\"font-size:18px\">Trial complete</h1></span>"
      ],
      "text/plain": [
       "<IPython.core.display.HTML object>"
      ]
     },
     "metadata": {},
     "output_type": "display_data"
    },
    {
     "data": {
      "text/html": [
       "<span style=\"color:#4527A0\"><h1 style=\"font-size:18px\">Trial summary</h1></span>"
      ],
      "text/plain": [
       "<IPython.core.display.HTML object>"
      ]
     },
     "metadata": {},
     "output_type": "display_data"
    },
    {
     "data": {
      "text/html": [
       "<span style=\"color:cyan\"> |-Trial ID: 0d02e6a3b506ca5a5c57395e32a41e94</span>"
      ],
      "text/plain": [
       "<IPython.core.display.HTML object>"
      ]
     },
     "metadata": {},
     "output_type": "display_data"
    },
    {
     "data": {
      "text/html": [
       "<span style=\"color:cyan\"> |-Score: 0.8842999935150146</span>"
      ],
      "text/plain": [
       "<IPython.core.display.HTML object>"
      ]
     },
     "metadata": {},
     "output_type": "display_data"
    },
    {
     "data": {
      "text/html": [
       "<span style=\"color:cyan\"> |-Best step: 0</span>"
      ],
      "text/plain": [
       "<IPython.core.display.HTML object>"
      ]
     },
     "metadata": {},
     "output_type": "display_data"
    },
    {
     "data": {
      "text/html": [
       "<span style=\"color:#7E57C2\"><h2 style=\"font-size:16px\">Hyperparameters:</h2></span>"
      ],
      "text/plain": [
       "<IPython.core.display.HTML object>"
      ]
     },
     "metadata": {},
     "output_type": "display_data"
    },
    {
     "data": {
      "text/html": [
       "<span style=\"color:cyan\"> |-learning_rate: 0.001</span>"
      ],
      "text/plain": [
       "<IPython.core.display.HTML object>"
      ]
     },
     "metadata": {},
     "output_type": "display_data"
    },
    {
     "data": {
      "text/html": [
       "<span style=\"color:blue\"> |-tuner/bracket: 0</span>"
      ],
      "text/plain": [
       "<IPython.core.display.HTML object>"
      ]
     },
     "metadata": {},
     "output_type": "display_data"
    },
    {
     "data": {
      "text/html": [
       "<span style=\"color:cyan\"> |-tuner/epochs: 10</span>"
      ],
      "text/plain": [
       "<IPython.core.display.HTML object>"
      ]
     },
     "metadata": {},
     "output_type": "display_data"
    },
    {
     "data": {
      "text/html": [
       "<span style=\"color:blue\"> |-tuner/initial_epoch: 0</span>"
      ],
      "text/plain": [
       "<IPython.core.display.HTML object>"
      ]
     },
     "metadata": {},
     "output_type": "display_data"
    },
    {
     "data": {
      "text/html": [
       "<span style=\"color:cyan\"> |-tuner/round: 0</span>"
      ],
      "text/plain": [
       "<IPython.core.display.HTML object>"
      ]
     },
     "metadata": {},
     "output_type": "display_data"
    },
    {
     "data": {
      "text/html": [
       "<span style=\"color:blue\"> |-units: 416</span>"
      ],
      "text/plain": [
       "<IPython.core.display.HTML object>"
      ]
     },
     "metadata": {},
     "output_type": "display_data"
    },
    {
     "name": "stdout",
     "output_type": "stream",
     "text": [
      "INFO:tensorflow:Oracle triggered exit\n",
      "\n",
      "The hyperparameter search is complete. The optimal number of units in the first densely-connected\n",
      "layer is 384 and the optimal learning rate for the optimizer\n",
      "is 0.001.\n",
      "\n"
     ]
    }
   ],
   "source": [
    "tuner.search(img_train, label_train, epochs = 10, validation_data = (img_test, label_test), callbacks = [ClearTrainingOutput()])\n",
    "\n",
    "# Get the optimal hyperparameters\n",
    "best_hps = tuner.get_best_hyperparameters(num_trials = 1)[0]\n",
    "\n",
    "print(f\"\"\"\n",
    "The hyperparameter search is complete. The optimal number of units in the first densely-connected\n",
    "layer is {best_hps.get('units')} and the optimal learning rate for the optimizer\n",
    "is {best_hps.get('learning_rate')}.\n",
    "\"\"\")"
   ]
  },
  {
   "cell_type": "code",
   "execution_count": 11,
   "metadata": {},
   "outputs": [
    {
     "name": "stdout",
     "output_type": "stream",
     "text": [
      "Epoch 1/10\n"
     ]
    },
    {
     "name": "stdout",
     "output_type": "stream",
     "text": [
      "1554/1875 [=======================>......] - ETA: 0s - loss: 2.6626 - accuracy: 0.03 - ETA: 5s - loss: 1.5904 - accuracy: 0.45 - ETA: 6s - loss: 1.2418 - accuracy: 0.57 - ETA: 6s - loss: 1.0852 - accuracy: 0.61 - ETA: 6s - loss: 0.9862 - accuracy: 0.64 - ETA: 6s - loss: 0.9371 - accuracy: 0.66 - ETA: 6s - loss: 0.8904 - accuracy: 0.68 - ETA: 6s - loss: 0.8534 - accuracy: 0.70 - ETA: 6s - loss: 0.8284 - accuracy: 0.70 - ETA: 6s - loss: 0.8092 - accuracy: 0.71 - ETA: 6s - loss: 0.7954 - accuracy: 0.71 - ETA: 6s - loss: 0.7802 - accuracy: 0.72 - ETA: 6s - loss: 0.7669 - accuracy: 0.72 - ETA: 6s - loss: 0.7535 - accuracy: 0.73 - ETA: 6s - loss: 0.7467 - accuracy: 0.73 - ETA: 7s - loss: 0.7410 - accuracy: 0.73 - ETA: 7s - loss: 0.7353 - accuracy: 0.73 - ETA: 7s - loss: 0.7324 - accuracy: 0.74 - ETA: 7s - loss: 0.7274 - accuracy: 0.74 - ETA: 7s - loss: 0.7237 - accuracy: 0.74 - ETA: 7s - loss: 0.7178 - accuracy: 0.74 - ETA: 7s - loss: 0.7152 - accuracy: 0.74 - ETA: 7s - loss: 0.7095 - accuracy: 0.75 - ETA: 7s - loss: 0.7052 - accuracy: 0.75 - ETA: 7s - loss: 0.7018 - accuracy: 0.75 - ETA: 7s - loss: 0.7000 - accuracy: 0.75 - ETA: 7s - loss: 0.6950 - accuracy: 0.75 - ETA: 7s - loss: 0.6944 - accuracy: 0.75 - ETA: 7s - loss: 0.6888 - accuracy: 0.75 - ETA: 7s - loss: 0.6860 - accuracy: 0.75 - ETA: 7s - loss: 0.6796 - accuracy: 0.76 - ETA: 7s - loss: 0.6744 - accuracy: 0.76 - ETA: 7s - loss: 0.6692 - accuracy: 0.76 - ETA: 7s - loss: 0.6624 - accuracy: 0.76 - ETA: 7s - loss: 0.6562 - accuracy: 0.76 - ETA: 7s - loss: 0.6495 - accuracy: 0.77 - ETA: 7s - loss: 0.6452 - accuracy: 0.77 - ETA: 7s - loss: 0.6434 - accuracy: 0.77 - ETA: 7s - loss: 0.6373 - accuracy: 0.77 - ETA: 7s - loss: 0.6338 - accuracy: 0.77 - ETA: 7s - loss: 0.6311 - accuracy: 0.77 - ETA: 7s - loss: 0.6281 - accuracy: 0.78 - ETA: 6s - loss: 0.6225 - accuracy: 0.78 - ETA: 6s - loss: 0.6207 - accuracy: 0.78 - ETA: 6s - loss: 0.6155 - accuracy: 0.78 - ETA: 6s - loss: 0.6120 - accuracy: 0.78 - ETA: 6s - loss: 0.6103 - accuracy: 0.78 - ETA: 6s - loss: 0.6092 - accuracy: 0.78 - ETA: 6s - loss: 0.6074 - accuracy: 0.78 - ETA: 7s - loss: 0.6064 - accuracy: 0.78 - ETA: 7s - loss: 0.6061 - accuracy: 0.78 - ETA: 7s - loss: 0.6060 - accuracy: 0.78 - ETA: 7s - loss: 0.6052 - accuracy: 0.78 - ETA: 7s - loss: 0.6035 - accuracy: 0.78 - ETA: 7s - loss: 0.6019 - accuracy: 0.78 - ETA: 7s - loss: 0.6006 - accuracy: 0.78 - ETA: 7s - loss: 0.6007 - accuracy: 0.78 - ETA: 7s - loss: 0.6001 - accuracy: 0.78 - ETA: 7s - loss: 0.5985 - accuracy: 0.78 - ETA: 7s - loss: 0.5967 - accuracy: 0.78 - ETA: 7s - loss: 0.5951 - accuracy: 0.79 - ETA: 7s - loss: 0.5934 - accuracy: 0.79 - ETA: 7s - loss: 0.5918 - accuracy: 0.79 - ETA: 7s - loss: 0.5894 - accuracy: 0.79 - ETA: 7s - loss: 0.5862 - accuracy: 0.79 - ETA: 7s - loss: 0.5854 - accuracy: 0.79 - ETA: 7s - loss: 0.5843 - accuracy: 0.79 - ETA: 7s - loss: 0.5838 - accuracy: 0.79 - ETA: 7s - loss: 0.5822 - accuracy: 0.79 - ETA: 7s - loss: 0.5816 - accuracy: 0.79 - ETA: 7s - loss: 0.5812 - accuracy: 0.79 - ETA: 7s - loss: 0.5812 - accuracy: 0.79 - ETA: 7s - loss: 0.5801 - accuracy: 0.79 - ETA: 7s - loss: 0.5797 - accuracy: 0.79 - ETA: 7s - loss: 0.5801 - accuracy: 0.79 - ETA: 7s - loss: 0.5790 - accuracy: 0.79 - ETA: 7s - loss: 0.5784 - accuracy: 0.79 - ETA: 7s - loss: 0.5787 - accuracy: 0.79 - ETA: 7s - loss: 0.5783 - accuracy: 0.79 - ETA: 7s - loss: 0.5774 - accuracy: 0.79 - ETA: 7s - loss: 0.5769 - accuracy: 0.79 - ETA: 7s - loss: 0.5753 - accuracy: 0.79 - ETA: 7s - loss: 0.5740 - accuracy: 0.79 - ETA: 7s - loss: 0.5739 - accuracy: 0.79 - ETA: 7s - loss: 0.5734 - accuracy: 0.79 - ETA: 7s - loss: 0.5731 - accuracy: 0.79 - ETA: 7s - loss: 0.5730 - accuracy: 0.79 - ETA: 7s - loss: 0.5720 - accuracy: 0.79 - ETA: 7s - loss: 0.5715 - accuracy: 0.79 - ETA: 7s - loss: 0.5714 - accuracy: 0.79 - ETA: 8s - loss: 0.5716 - accuracy: 0.79 - ETA: 7s - loss: 0.5707 - accuracy: 0.79 - ETA: 8s - loss: 0.5711 - accuracy: 0.79 - ETA: 7s - loss: 0.5706 - accuracy: 0.79 - ETA: 7s - loss: 0.5691 - accuracy: 0.80 - ETA: 7s - loss: 0.5677 - accuracy: 0.80 - ETA: 7s - loss: 0.5664 - accuracy: 0.80 - ETA: 7s - loss: 0.5652 - accuracy: 0.80 - ETA: 7s - loss: 0.5643 - accuracy: 0.80 - ETA: 7s - loss: 0.5639 - accuracy: 0.80 - ETA: 7s - loss: 0.5631 - accuracy: 0.80 - ETA: 7s - loss: 0.5621 - accuracy: 0.80 - ETA: 7s - loss: 0.5611 - accuracy: 0.80 - ETA: 7s - loss: 0.5589 - accuracy: 0.80 - ETA: 7s - loss: 0.5564 - accuracy: 0.80 - ETA: 6s - loss: 0.5549 - accuracy: 0.80 - ETA: 6s - loss: 0.5526 - accuracy: 0.80 - ETA: 6s - loss: 0.5521 - accuracy: 0.80 - ETA: 6s - loss: 0.5508 - accuracy: 0.80 - ETA: 6s - loss: 0.5496 - accuracy: 0.80 - ETA: 6s - loss: 0.5492 - accuracy: 0.80 - ETA: 6s - loss: 0.5483 - accuracy: 0.80 - ETA: 6s - loss: 0.5482 - accuracy: 0.80 - ETA: 6s - loss: 0.5472 - accuracy: 0.80 - ETA: 6s - loss: 0.5469 - accuracy: 0.80 - ETA: 6s - loss: 0.5460 - accuracy: 0.80 - ETA: 6s - loss: 0.5451 - accuracy: 0.80 - ETA: 6s - loss: 0.5442 - accuracy: 0.80 - ETA: 6s - loss: 0.5424 - accuracy: 0.80 - ETA: 6s - loss: 0.5405 - accuracy: 0.80 - ETA: 5s - loss: 0.5403 - accuracy: 0.81 - ETA: 5s - loss: 0.5388 - accuracy: 0.81 - ETA: 5s - loss: 0.5379 - accuracy: 0.81 - ETA: 5s - loss: 0.5367 - accuracy: 0.81 - ETA: 5s - loss: 0.5367 - accuracy: 0.81 - ETA: 5s - loss: 0.5356 - accuracy: 0.81 - ETA: 5s - loss: 0.5347 - accuracy: 0.81 - ETA: 5s - loss: 0.5346 - accuracy: 0.81 - ETA: 5s - loss: 0.5345 - accuracy: 0.81 - ETA: 5s - loss: 0.5344 - accuracy: 0.81 - ETA: 5s - loss: 0.5334 - accuracy: 0.81 - ETA: 5s - loss: 0.5329 - accuracy: 0.81 - ETA: 5s - loss: 0.5324 - accuracy: 0.81 - ETA: 5s - loss: 0.5319 - accuracy: 0.81 - ETA: 5s - loss: 0.5308 - accuracy: 0.81 - ETA: 5s - loss: 0.5301 - accuracy: 0.81 - ETA: 5s - loss: 0.5297 - accuracy: 0.81 - ETA: 5s - loss: 0.5294 - accuracy: 0.81 - ETA: 5s - loss: 0.5282 - accuracy: 0.81 - ETA: 4s - loss: 0.5273 - accuracy: 0.81 - ETA: 4s - loss: 0.5258 - accuracy: 0.81 - ETA: 4s - loss: 0.5251 - accuracy: 0.81 - ETA: 4s - loss: 0.5249 - accuracy: 0.81 - ETA: 4s - loss: 0.5245 - accuracy: 0.81 - ETA: 4s - loss: 0.5237 - accuracy: 0.81 - ETA: 4s - loss: 0.5226 - accuracy: 0.81 - ETA: 4s - loss: 0.5223 - accuracy: 0.81 - ETA: 4s - loss: 0.5217 - accuracy: 0.81 - ETA: 4s - loss: 0.5207 - accuracy: 0.81 - ETA: 4s - loss: 0.5201 - accuracy: 0.81 - ETA: 4s - loss: 0.5197 - accuracy: 0.81 - ETA: 4s - loss: 0.5189 - accuracy: 0.81 - ETA: 4s - loss: 0.5176 - accuracy: 0.81 - ETA: 4s - loss: 0.5174 - accuracy: 0.81 - ETA: 4s - loss: 0.5164 - accuracy: 0.81 - ETA: 4s - loss: 0.5158 - accuracy: 0.81 - ETA: 3s - loss: 0.5151 - accuracy: 0.81 - ETA: 3s - loss: 0.5141 - accuracy: 0.81 - ETA: 3s - loss: 0.5133 - accuracy: 0.81 - ETA: 3s - loss: 0.5122 - accuracy: 0.81 - ETA: 3s - loss: 0.5113 - accuracy: 0.81 - ETA: 3s - loss: 0.5105 - accuracy: 0.81 - ETA: 3s - loss: 0.5096 - accuracy: 0.81 - ETA: 3s - loss: 0.5092 - accuracy: 0.81 - ETA: 3s - loss: 0.5080 - accuracy: 0.82 - ETA: 3s - loss: 0.5063 - accuracy: 0.82 - ETA: 3s - loss: 0.5059 - accuracy: 0.82 - ETA: 3s - loss: 0.5051 - accuracy: 0.82 - ETA: 3s - loss: 0.5044 - accuracy: 0.82 - ETA: 3s - loss: 0.5041 - accuracy: 0.82 - ETA: 3s - loss: 0.5032 - accuracy: 0.82 - ETA: 2s - loss: 0.5027 - accuracy: 0.82 - ETA: 2s - loss: 0.5019 - accuracy: 0.82 - ETA: 2s - loss: 0.5017 - accuracy: 0.82 - ETA: 2s - loss: 0.5018 - accuracy: 0.82 - ETA: 2s - loss: 0.5015 - accuracy: 0.82 - ETA: 2s - loss: 0.5014 - accuracy: 0.82 - ETA: 2s - loss: 0.5009 - accuracy: 0.82 - ETA: 2s - loss: 0.5009 - accuracy: 0.82 - ETA: 2s - loss: 0.5003 - accuracy: 0.82 - ETA: 2s - loss: 0.5000 - accuracy: 0.82 - ETA: 2s - loss: 0.4990 - accuracy: 0.82 - ETA: 2s - loss: 0.4989 - accuracy: 0.82 - ETA: 2s - loss: 0.4985 - accuracy: 0.82 - ETA: 2s - loss: 0.4981 - accuracy: 0.82 - ETA: 2s - loss: 0.4976 - accuracy: 0.82 - ETA: 2s - loss: 0.4975 - accuracy: 0.82 - ETA: 2s - loss: 0.4968 - accuracy: 0.82 - ETA: 2s - loss: 0.4967 - accuracy: 0.82 - ETA: 2s - loss: 0.4962 - accuracy: 0.82 - ETA: 2s - loss: 0.4955 - accuracy: 0.82 - ETA: 2s - loss: 0.4948 - accuracy: 0.82 - ETA: 2s - loss: 0.4945 - accuracy: 0.82 - ETA: 2s - loss: 0.4943 - accuracy: 0.8247\b\b\b\b\b\b\b\b\b\b\b\b\b\b\b\b\b\b\b\b\b\b\b\b\b\b\b\b\b\b\b\b\b\b\b\b\b\b\b\b\b\b\b\b\b\b\b\b\b\b\b\b\b\b\b\b\b\b\b\b\b\b\b\b\b\b\b\b\b\b\b\b\b\b\b\b\b\b\b\b\b\b\b\b\b\b"
     ]
    },
    {
     "name": "stdout",
     "output_type": "stream",
     "text": [
      "1875/1875 [==============================] - ETA: 2s - loss: 0.4944 - accuracy: 0.82 - ETA: 2s - loss: 0.4940 - accuracy: 0.82 - ETA: 2s - loss: 0.4937 - accuracy: 0.82 - ETA: 2s - loss: 0.4932 - accuracy: 0.82 - ETA: 1s - loss: 0.4927 - accuracy: 0.82 - ETA: 1s - loss: 0.4918 - accuracy: 0.82 - ETA: 1s - loss: 0.4912 - accuracy: 0.82 - ETA: 1s - loss: 0.4909 - accuracy: 0.82 - ETA: 1s - loss: 0.4905 - accuracy: 0.82 - ETA: 1s - loss: 0.4901 - accuracy: 0.82 - ETA: 1s - loss: 0.4894 - accuracy: 0.82 - ETA: 1s - loss: 0.4888 - accuracy: 0.82 - ETA: 1s - loss: 0.4879 - accuracy: 0.82 - ETA: 1s - loss: 0.4878 - accuracy: 0.82 - ETA: 1s - loss: 0.4869 - accuracy: 0.82 - ETA: 1s - loss: 0.4864 - accuracy: 0.82 - ETA: 1s - loss: 0.4856 - accuracy: 0.82 - ETA: 1s - loss: 0.4855 - accuracy: 0.82 - ETA: 1s - loss: 0.4857 - accuracy: 0.82 - ETA: 0s - loss: 0.4853 - accuracy: 0.82 - ETA: 0s - loss: 0.4852 - accuracy: 0.82 - ETA: 0s - loss: 0.4850 - accuracy: 0.82 - ETA: 0s - loss: 0.4846 - accuracy: 0.82 - ETA: 0s - loss: 0.4842 - accuracy: 0.82 - ETA: 0s - loss: 0.4836 - accuracy: 0.82 - ETA: 0s - loss: 0.4832 - accuracy: 0.82 - ETA: 0s - loss: 0.4828 - accuracy: 0.82 - ETA: 0s - loss: 0.4826 - accuracy: 0.82 - ETA: 0s - loss: 0.4817 - accuracy: 0.82 - ETA: 0s - loss: 0.4811 - accuracy: 0.82 - ETA: 0s - loss: 0.4808 - accuracy: 0.82 - ETA: 0s - loss: 0.4802 - accuracy: 0.82 - ETA: 0s - loss: 0.4795 - accuracy: 0.82 - ETA: 0s - loss: 0.4787 - accuracy: 0.82 - ETA: 0s - loss: 0.4779 - accuracy: 0.82 - ETA: 0s - loss: 0.4771 - accuracy: 0.82 - 13s 7ms/step - loss: 0.4770 - accuracy: 0.8298 - val_loss: 0.4103 - val_accuracy: 0.8525\n",
      "Epoch 2/10\n"
     ]
    },
    {
     "name": "stdout",
     "output_type": "stream",
     "text": [
      "1793/1875 [===========================>..] - ETA: 0s - loss: 0.6457 - accuracy: 0.68 - ETA: 8s - loss: 0.4635 - accuracy: 0.83 - ETA: 9s - loss: 0.4267 - accuracy: 0.85 - ETA: 8s - loss: 0.4075 - accuracy: 0.85 - ETA: 8s - loss: 0.4080 - accuracy: 0.86 - ETA: 8s - loss: 0.3904 - accuracy: 0.86 - ETA: 7s - loss: 0.3880 - accuracy: 0.86 - ETA: 7s - loss: 0.3822 - accuracy: 0.86 - ETA: 8s - loss: 0.3834 - accuracy: 0.86 - ETA: 8s - loss: 0.3862 - accuracy: 0.86 - ETA: 9s - loss: 0.3904 - accuracy: 0.86 - ETA: 9s - loss: 0.3905 - accuracy: 0.85 - ETA: 9s - loss: 0.3916 - accuracy: 0.85 - ETA: 10s - loss: 0.3861 - accuracy: 0.859 - ETA: 10s - loss: 0.3883 - accuracy: 0.859 - ETA: 10s - loss: 0.3846 - accuracy: 0.860 - ETA: 10s - loss: 0.3813 - accuracy: 0.860 - ETA: 10s - loss: 0.3810 - accuracy: 0.859 - ETA: 10s - loss: 0.3795 - accuracy: 0.861 - ETA: 10s - loss: 0.3802 - accuracy: 0.859 - ETA: 9s - loss: 0.3777 - accuracy: 0.861 - ETA: 9s - loss: 0.3748 - accuracy: 0.86 - ETA: 9s - loss: 0.3748 - accuracy: 0.86 - ETA: 9s - loss: 0.3744 - accuracy: 0.86 - ETA: 9s - loss: 0.3738 - accuracy: 0.86 - ETA: 9s - loss: 0.3775 - accuracy: 0.86 - ETA: 9s - loss: 0.3782 - accuracy: 0.86 - ETA: 9s - loss: 0.3783 - accuracy: 0.86 - ETA: 8s - loss: 0.3764 - accuracy: 0.86 - ETA: 8s - loss: 0.3753 - accuracy: 0.86 - ETA: 8s - loss: 0.3770 - accuracy: 0.86 - ETA: 8s - loss: 0.3753 - accuracy: 0.86 - ETA: 8s - loss: 0.3793 - accuracy: 0.86 - ETA: 8s - loss: 0.3795 - accuracy: 0.86 - ETA: 8s - loss: 0.3784 - accuracy: 0.86 - ETA: 8s - loss: 0.3764 - accuracy: 0.86 - ETA: 8s - loss: 0.3749 - accuracy: 0.86 - ETA: 8s - loss: 0.3764 - accuracy: 0.86 - ETA: 8s - loss: 0.3764 - accuracy: 0.86 - ETA: 8s - loss: 0.3749 - accuracy: 0.86 - ETA: 8s - loss: 0.3728 - accuracy: 0.86 - ETA: 7s - loss: 0.3750 - accuracy: 0.86 - ETA: 7s - loss: 0.3747 - accuracy: 0.86 - ETA: 7s - loss: 0.3748 - accuracy: 0.86 - ETA: 7s - loss: 0.3749 - accuracy: 0.86 - ETA: 7s - loss: 0.3755 - accuracy: 0.86 - ETA: 7s - loss: 0.3749 - accuracy: 0.86 - ETA: 7s - loss: 0.3742 - accuracy: 0.86 - ETA: 7s - loss: 0.3745 - accuracy: 0.86 - ETA: 7s - loss: 0.3739 - accuracy: 0.86 - ETA: 7s - loss: 0.3738 - accuracy: 0.86 - ETA: 6s - loss: 0.3735 - accuracy: 0.86 - ETA: 6s - loss: 0.3732 - accuracy: 0.86 - ETA: 6s - loss: 0.3738 - accuracy: 0.86 - ETA: 6s - loss: 0.3740 - accuracy: 0.86 - ETA: 6s - loss: 0.3724 - accuracy: 0.86 - ETA: 6s - loss: 0.3730 - accuracy: 0.86 - ETA: 6s - loss: 0.3722 - accuracy: 0.86 - ETA: 6s - loss: 0.3725 - accuracy: 0.86 - ETA: 6s - loss: 0.3729 - accuracy: 0.86 - ETA: 6s - loss: 0.3730 - accuracy: 0.86 - ETA: 6s - loss: 0.3724 - accuracy: 0.86 - ETA: 6s - loss: 0.3710 - accuracy: 0.86 - ETA: 6s - loss: 0.3706 - accuracy: 0.86 - ETA: 6s - loss: 0.3706 - accuracy: 0.86 - ETA: 6s - loss: 0.3699 - accuracy: 0.86 - ETA: 6s - loss: 0.3706 - accuracy: 0.86 - ETA: 6s - loss: 0.3702 - accuracy: 0.86 - ETA: 6s - loss: 0.3705 - accuracy: 0.86 - ETA: 6s - loss: 0.3707 - accuracy: 0.86 - ETA: 6s - loss: 0.3702 - accuracy: 0.86 - ETA: 6s - loss: 0.3710 - accuracy: 0.86 - ETA: 6s - loss: 0.3711 - accuracy: 0.86 - ETA: 6s - loss: 0.3714 - accuracy: 0.86 - ETA: 6s - loss: 0.3707 - accuracy: 0.86 - ETA: 6s - loss: 0.3702 - accuracy: 0.86 - ETA: 6s - loss: 0.3695 - accuracy: 0.86 - ETA: 6s - loss: 0.3693 - accuracy: 0.86 - ETA: 6s - loss: 0.3695 - accuracy: 0.86 - ETA: 6s - loss: 0.3694 - accuracy: 0.86 - ETA: 6s - loss: 0.3704 - accuracy: 0.86 - ETA: 6s - loss: 0.3703 - accuracy: 0.86 - ETA: 5s - loss: 0.3719 - accuracy: 0.86 - ETA: 5s - loss: 0.3720 - accuracy: 0.86 - ETA: 5s - loss: 0.3720 - accuracy: 0.86 - ETA: 5s - loss: 0.3708 - accuracy: 0.86 - ETA: 5s - loss: 0.3709 - accuracy: 0.86 - ETA: 5s - loss: 0.3705 - accuracy: 0.86 - ETA: 5s - loss: 0.3702 - accuracy: 0.86 - ETA: 5s - loss: 0.3697 - accuracy: 0.86 - ETA: 5s - loss: 0.3704 - accuracy: 0.86 - ETA: 5s - loss: 0.3690 - accuracy: 0.86 - ETA: 5s - loss: 0.3678 - accuracy: 0.86 - ETA: 5s - loss: 0.3666 - accuracy: 0.86 - ETA: 5s - loss: 0.3658 - accuracy: 0.86 - ETA: 5s - loss: 0.3652 - accuracy: 0.86 - ETA: 4s - loss: 0.3642 - accuracy: 0.86 - ETA: 4s - loss: 0.3647 - accuracy: 0.86 - ETA: 4s - loss: 0.3649 - accuracy: 0.86 - ETA: 4s - loss: 0.3653 - accuracy: 0.86 - ETA: 4s - loss: 0.3653 - accuracy: 0.86 - ETA: 4s - loss: 0.3656 - accuracy: 0.86 - ETA: 4s - loss: 0.3655 - accuracy: 0.86 - ETA: 4s - loss: 0.3653 - accuracy: 0.86 - ETA: 4s - loss: 0.3659 - accuracy: 0.86 - ETA: 4s - loss: 0.3659 - accuracy: 0.86 - ETA: 4s - loss: 0.3655 - accuracy: 0.86 - ETA: 4s - loss: 0.3646 - accuracy: 0.86 - ETA: 4s - loss: 0.3648 - accuracy: 0.86 - ETA: 4s - loss: 0.3650 - accuracy: 0.86 - ETA: 4s - loss: 0.3655 - accuracy: 0.86 - ETA: 4s - loss: 0.3669 - accuracy: 0.86 - ETA: 4s - loss: 0.3667 - accuracy: 0.86 - ETA: 4s - loss: 0.3665 - accuracy: 0.86 - ETA: 4s - loss: 0.3666 - accuracy: 0.86 - ETA: 4s - loss: 0.3668 - accuracy: 0.86 - ETA: 4s - loss: 0.3670 - accuracy: 0.86 - ETA: 4s - loss: 0.3671 - accuracy: 0.86 - ETA: 4s - loss: 0.3670 - accuracy: 0.86 - ETA: 4s - loss: 0.3668 - accuracy: 0.86 - ETA: 4s - loss: 0.3663 - accuracy: 0.86 - ETA: 4s - loss: 0.3661 - accuracy: 0.86 - ETA: 4s - loss: 0.3659 - accuracy: 0.86 - ETA: 4s - loss: 0.3662 - accuracy: 0.86 - ETA: 4s - loss: 0.3662 - accuracy: 0.86 - ETA: 4s - loss: 0.3663 - accuracy: 0.86 - ETA: 3s - loss: 0.3663 - accuracy: 0.86 - ETA: 3s - loss: 0.3662 - accuracy: 0.86 - ETA: 3s - loss: 0.3663 - accuracy: 0.86 - ETA: 3s - loss: 0.3654 - accuracy: 0.86 - ETA: 3s - loss: 0.3653 - accuracy: 0.86 - ETA: 3s - loss: 0.3648 - accuracy: 0.86 - ETA: 3s - loss: 0.3654 - accuracy: 0.86 - ETA: 3s - loss: 0.3651 - accuracy: 0.86 - ETA: 3s - loss: 0.3651 - accuracy: 0.86 - ETA: 3s - loss: 0.3653 - accuracy: 0.86 - ETA: 3s - loss: 0.3653 - accuracy: 0.86 - ETA: 3s - loss: 0.3648 - accuracy: 0.86 - ETA: 3s - loss: 0.3646 - accuracy: 0.86 - ETA: 3s - loss: 0.3642 - accuracy: 0.86 - ETA: 3s - loss: 0.3644 - accuracy: 0.86 - ETA: 3s - loss: 0.3639 - accuracy: 0.86 - ETA: 3s - loss: 0.3643 - accuracy: 0.86 - ETA: 3s - loss: 0.3642 - accuracy: 0.86 - ETA: 3s - loss: 0.3640 - accuracy: 0.86 - ETA: 2s - loss: 0.3644 - accuracy: 0.86 - ETA: 2s - loss: 0.3644 - accuracy: 0.86 - ETA: 2s - loss: 0.3647 - accuracy: 0.86 - ETA: 2s - loss: 0.3651 - accuracy: 0.86 - ETA: 2s - loss: 0.3644 - accuracy: 0.86 - ETA: 2s - loss: 0.3639 - accuracy: 0.86 - ETA: 2s - loss: 0.3638 - accuracy: 0.86 - ETA: 2s - loss: 0.3633 - accuracy: 0.86 - ETA: 2s - loss: 0.3632 - accuracy: 0.86 - ETA: 2s - loss: 0.3629 - accuracy: 0.86 - ETA: 2s - loss: 0.3622 - accuracy: 0.86 - ETA: 2s - loss: 0.3619 - accuracy: 0.86 - ETA: 2s - loss: 0.3614 - accuracy: 0.86 - ETA: 2s - loss: 0.3610 - accuracy: 0.86 - ETA: 2s - loss: 0.3611 - accuracy: 0.86 - ETA: 1s - loss: 0.3607 - accuracy: 0.86 - ETA: 1s - loss: 0.3608 - accuracy: 0.86 - ETA: 1s - loss: 0.3609 - accuracy: 0.86 - ETA: 1s - loss: 0.3608 - accuracy: 0.86 - ETA: 1s - loss: 0.3605 - accuracy: 0.86 - ETA: 1s - loss: 0.3606 - accuracy: 0.86 - ETA: 1s - loss: 0.3604 - accuracy: 0.86 - ETA: 1s - loss: 0.3602 - accuracy: 0.86 - ETA: 1s - loss: 0.3602 - accuracy: 0.86 - ETA: 1s - loss: 0.3605 - accuracy: 0.86 - ETA: 1s - loss: 0.3605 - accuracy: 0.86 - ETA: 1s - loss: 0.3607 - accuracy: 0.86 - ETA: 1s - loss: 0.3607 - accuracy: 0.86 - ETA: 1s - loss: 0.3608 - accuracy: 0.86 - ETA: 1s - loss: 0.3613 - accuracy: 0.86 - ETA: 1s - loss: 0.3612 - accuracy: 0.86 - ETA: 1s - loss: 0.3614 - accuracy: 0.86 - ETA: 1s - loss: 0.3612 - accuracy: 0.86 - ETA: 1s - loss: 0.3613 - accuracy: 0.86 - ETA: 1s - loss: 0.3613 - accuracy: 0.86 - ETA: 1s - loss: 0.3611 - accuracy: 0.86 - ETA: 1s - loss: 0.3614 - accuracy: 0.86 - ETA: 0s - loss: 0.3615 - accuracy: 0.86 - ETA: 0s - loss: 0.3620 - accuracy: 0.86 - ETA: 0s - loss: 0.3626 - accuracy: 0.86 - ETA: 0s - loss: 0.3626 - accuracy: 0.86 - ETA: 0s - loss: 0.3626 - accuracy: 0.86 - ETA: 0s - loss: 0.3625 - accuracy: 0.86 - ETA: 0s - loss: 0.3626 - accuracy: 0.86 - ETA: 0s - loss: 0.3627 - accuracy: 0.86 - ETA: 0s - loss: 0.3626 - accuracy: 0.86 - ETA: 0s - loss: 0.3624 - accuracy: 0.86 - ETA: 0s - loss: 0.3623 - accuracy: 0.86 - ETA: 0s - loss: 0.3622 - accuracy: 0.8683"
     ]
    },
    {
     "name": "stdout",
     "output_type": "stream",
     "text": [
      "1875/1875 [==============================] - ETA: 0s - loss: 0.3615 - accuracy: 0.86 - ETA: 0s - loss: 0.3614 - accuracy: 0.86 - ETA: 0s - loss: 0.3613 - accuracy: 0.86 - ETA: 0s - loss: 0.3613 - accuracy: 0.86 - ETA: 0s - loss: 0.3614 - accuracy: 0.86 - ETA: 0s - loss: 0.3616 - accuracy: 0.86 - 11s 6ms/step - loss: 0.3613 - accuracy: 0.8687 - val_loss: 0.3674 - val_accuracy: 0.8634\n",
      "Epoch 3/10\n",
      "1875/1875 [==============================] - ETA: 0s - loss: 0.1576 - accuracy: 0.90 - ETA: 18s - loss: 0.2612 - accuracy: 0.885 - ETA: 23s - loss: 0.2725 - accuracy: 0.892 - ETA: 17s - loss: 0.2946 - accuracy: 0.878 - ETA: 18s - loss: 0.3151 - accuracy: 0.876 - ETA: 17s - loss: 0.3467 - accuracy: 0.875 - ETA: 15s - loss: 0.3411 - accuracy: 0.875 - ETA: 16s - loss: 0.3352 - accuracy: 0.876 - ETA: 16s - loss: 0.3598 - accuracy: 0.866 - ETA: 16s - loss: 0.3538 - accuracy: 0.869 - ETA: 16s - loss: 0.3489 - accuracy: 0.870 - ETA: 16s - loss: 0.3497 - accuracy: 0.869 - ETA: 16s - loss: 0.3381 - accuracy: 0.874 - ETA: 15s - loss: 0.3370 - accuracy: 0.875 - ETA: 15s - loss: 0.3301 - accuracy: 0.879 - ETA: 13s - loss: 0.3345 - accuracy: 0.876 - ETA: 13s - loss: 0.3286 - accuracy: 0.879 - ETA: 12s - loss: 0.3339 - accuracy: 0.877 - ETA: 11s - loss: 0.3286 - accuracy: 0.879 - ETA: 11s - loss: 0.3279 - accuracy: 0.878 - ETA: 10s - loss: 0.3319 - accuracy: 0.876 - ETA: 10s - loss: 0.3306 - accuracy: 0.877 - ETA: 9s - loss: 0.3331 - accuracy: 0.875 - ETA: 9s - loss: 0.3291 - accuracy: 0.87 - ETA: 9s - loss: 0.3290 - accuracy: 0.87 - ETA: 9s - loss: 0.3265 - accuracy: 0.87 - ETA: 8s - loss: 0.3313 - accuracy: 0.87 - ETA: 8s - loss: 0.3320 - accuracy: 0.87 - ETA: 8s - loss: 0.3302 - accuracy: 0.87 - ETA: 8s - loss: 0.3306 - accuracy: 0.87 - ETA: 8s - loss: 0.3324 - accuracy: 0.87 - ETA: 8s - loss: 0.3336 - accuracy: 0.87 - ETA: 8s - loss: 0.3301 - accuracy: 0.87 - ETA: 8s - loss: 0.3287 - accuracy: 0.87 - ETA: 7s - loss: 0.3289 - accuracy: 0.87 - ETA: 7s - loss: 0.3282 - accuracy: 0.87 - ETA: 7s - loss: 0.3271 - accuracy: 0.87 - ETA: 7s - loss: 0.3284 - accuracy: 0.87 - ETA: 7s - loss: 0.3323 - accuracy: 0.87 - ETA: 7s - loss: 0.3325 - accuracy: 0.87 - ETA: 7s - loss: 0.3340 - accuracy: 0.87 - ETA: 7s - loss: 0.3343 - accuracy: 0.87 - ETA: 7s - loss: 0.3347 - accuracy: 0.87 - ETA: 7s - loss: 0.3344 - accuracy: 0.87 - ETA: 7s - loss: 0.3349 - accuracy: 0.87 - ETA: 7s - loss: 0.3359 - accuracy: 0.87 - ETA: 7s - loss: 0.3355 - accuracy: 0.87 - ETA: 7s - loss: 0.3351 - accuracy: 0.87 - ETA: 7s - loss: 0.3362 - accuracy: 0.87 - ETA: 7s - loss: 0.3362 - accuracy: 0.87 - ETA: 7s - loss: 0.3375 - accuracy: 0.87 - ETA: 7s - loss: 0.3386 - accuracy: 0.87 - ETA: 7s - loss: 0.3380 - accuracy: 0.87 - ETA: 6s - loss: 0.3366 - accuracy: 0.87 - ETA: 6s - loss: 0.3359 - accuracy: 0.87 - ETA: 6s - loss: 0.3359 - accuracy: 0.87 - ETA: 6s - loss: 0.3359 - accuracy: 0.87 - ETA: 6s - loss: 0.3360 - accuracy: 0.87 - ETA: 6s - loss: 0.3354 - accuracy: 0.87 - ETA: 6s - loss: 0.3353 - accuracy: 0.87 - ETA: 6s - loss: 0.3357 - accuracy: 0.87 - ETA: 6s - loss: 0.3355 - accuracy: 0.87 - ETA: 6s - loss: 0.3352 - accuracy: 0.87 - ETA: 6s - loss: 0.3354 - accuracy: 0.87 - ETA: 6s - loss: 0.3350 - accuracy: 0.87 - ETA: 6s - loss: 0.3349 - accuracy: 0.87 - ETA: 6s - loss: 0.3350 - accuracy: 0.87 - ETA: 6s - loss: 0.3348 - accuracy: 0.87 - ETA: 6s - loss: 0.3355 - accuracy: 0.87 - ETA: 6s - loss: 0.3359 - accuracy: 0.87 - ETA: 6s - loss: 0.3354 - accuracy: 0.87 - ETA: 6s - loss: 0.3367 - accuracy: 0.87 - ETA: 6s - loss: 0.3358 - accuracy: 0.87 - ETA: 6s - loss: 0.3368 - accuracy: 0.87 - ETA: 6s - loss: 0.3376 - accuracy: 0.87 - ETA: 6s - loss: 0.3367 - accuracy: 0.87 - ETA: 6s - loss: 0.3364 - accuracy: 0.87 - ETA: 6s - loss: 0.3360 - accuracy: 0.87 - ETA: 6s - loss: 0.3362 - accuracy: 0.87 - ETA: 6s - loss: 0.3360 - accuracy: 0.87 - ETA: 6s - loss: 0.3359 - accuracy: 0.87 - ETA: 6s - loss: 0.3361 - accuracy: 0.87 - ETA: 6s - loss: 0.3362 - accuracy: 0.87 - ETA: 6s - loss: 0.3355 - accuracy: 0.87 - ETA: 6s - loss: 0.3361 - accuracy: 0.87 - ETA: 6s - loss: 0.3361 - accuracy: 0.87 - ETA: 6s - loss: 0.3358 - accuracy: 0.87 - ETA: 6s - loss: 0.3344 - accuracy: 0.87 - ETA: 5s - loss: 0.3336 - accuracy: 0.87 - ETA: 5s - loss: 0.3335 - accuracy: 0.87 - ETA: 5s - loss: 0.3334 - accuracy: 0.87 - ETA: 5s - loss: 0.3329 - accuracy: 0.87 - ETA: 5s - loss: 0.3335 - accuracy: 0.87 - ETA: 5s - loss: 0.3333 - accuracy: 0.87 - ETA: 5s - loss: 0.3331 - accuracy: 0.87 - ETA: 5s - loss: 0.3326 - accuracy: 0.87 - ETA: 5s - loss: 0.3321 - accuracy: 0.87 - ETA: 5s - loss: 0.3310 - accuracy: 0.87 - ETA: 5s - loss: 0.3306 - accuracy: 0.87 - ETA: 5s - loss: 0.3298 - accuracy: 0.87 - ETA: 5s - loss: 0.3297 - accuracy: 0.87 - ETA: 5s - loss: 0.3287 - accuracy: 0.88 - ETA: 5s - loss: 0.3283 - accuracy: 0.88 - ETA: 5s - loss: 0.3287 - accuracy: 0.88 - ETA: 4s - loss: 0.3292 - accuracy: 0.88 - ETA: 4s - loss: 0.3289 - accuracy: 0.88 - ETA: 4s - loss: 0.3293 - accuracy: 0.87 - ETA: 4s - loss: 0.3302 - accuracy: 0.87 - ETA: 4s - loss: 0.3296 - accuracy: 0.87 - ETA: 4s - loss: 0.3291 - accuracy: 0.88 - ETA: 4s - loss: 0.3287 - accuracy: 0.88 - ETA: 4s - loss: 0.3283 - accuracy: 0.88 - ETA: 4s - loss: 0.3289 - accuracy: 0.88 - ETA: 4s - loss: 0.3293 - accuracy: 0.88 - ETA: 4s - loss: 0.3290 - accuracy: 0.88 - ETA: 4s - loss: 0.3293 - accuracy: 0.88 - ETA: 4s - loss: 0.3294 - accuracy: 0.88 - ETA: 4s - loss: 0.3293 - accuracy: 0.88 - ETA: 4s - loss: 0.3294 - accuracy: 0.88 - ETA: 4s - loss: 0.3289 - accuracy: 0.88 - ETA: 3s - loss: 0.3293 - accuracy: 0.88 - ETA: 3s - loss: 0.3300 - accuracy: 0.88 - ETA: 3s - loss: 0.3292 - accuracy: 0.88 - ETA: 3s - loss: 0.3296 - accuracy: 0.88 - ETA: 3s - loss: 0.3290 - accuracy: 0.88 - ETA: 3s - loss: 0.3292 - accuracy: 0.88 - ETA: 3s - loss: 0.3297 - accuracy: 0.88 - ETA: 3s - loss: 0.3293 - accuracy: 0.88 - ETA: 3s - loss: 0.3294 - accuracy: 0.88 - ETA: 3s - loss: 0.3293 - accuracy: 0.88 - ETA: 3s - loss: 0.3294 - accuracy: 0.88 - ETA: 3s - loss: 0.3289 - accuracy: 0.88 - ETA: 3s - loss: 0.3295 - accuracy: 0.88 - ETA: 3s - loss: 0.3295 - accuracy: 0.88 - ETA: 3s - loss: 0.3295 - accuracy: 0.88 - ETA: 3s - loss: 0.3295 - accuracy: 0.87 - ETA: 2s - loss: 0.3293 - accuracy: 0.87 - ETA: 2s - loss: 0.3298 - accuracy: 0.87 - ETA: 2s - loss: 0.3298 - accuracy: 0.87 - ETA: 2s - loss: 0.3300 - accuracy: 0.87 - ETA: 2s - loss: 0.3296 - accuracy: 0.88 - ETA: 2s - loss: 0.3293 - accuracy: 0.88 - ETA: 2s - loss: 0.3291 - accuracy: 0.88 - ETA: 2s - loss: 0.3290 - accuracy: 0.88 - ETA: 2s - loss: 0.3285 - accuracy: 0.88 - ETA: 2s - loss: 0.3283 - accuracy: 0.88 - ETA: 2s - loss: 0.3286 - accuracy: 0.88 - ETA: 2s - loss: 0.3285 - accuracy: 0.88 - ETA: 1s - loss: 0.3283 - accuracy: 0.88 - ETA: 1s - loss: 0.3285 - accuracy: 0.88 - ETA: 1s - loss: 0.3278 - accuracy: 0.88 - ETA: 1s - loss: 0.3277 - accuracy: 0.88 - ETA: 1s - loss: 0.3282 - accuracy: 0.88 - ETA: 1s - loss: 0.3282 - accuracy: 0.88 - ETA: 1s - loss: 0.3283 - accuracy: 0.88 - ETA: 1s - loss: 0.3284 - accuracy: 0.88 - ETA: 1s - loss: 0.3288 - accuracy: 0.87 - ETA: 1s - loss: 0.3285 - accuracy: 0.88 - ETA: 1s - loss: 0.3285 - accuracy: 0.88 - ETA: 1s - loss: 0.3285 - accuracy: 0.88 - ETA: 1s - loss: 0.3286 - accuracy: 0.87 - ETA: 0s - loss: 0.3288 - accuracy: 0.87 - ETA: 0s - loss: 0.3288 - accuracy: 0.87 - ETA: 0s - loss: 0.3289 - accuracy: 0.87 - ETA: 0s - loss: 0.3288 - accuracy: 0.87 - ETA: 0s - loss: 0.3287 - accuracy: 0.87 - ETA: 0s - loss: 0.3285 - accuracy: 0.87 - ETA: 0s - loss: 0.3289 - accuracy: 0.87 - ETA: 0s - loss: 0.3286 - accuracy: 0.87 - ETA: 0s - loss: 0.3283 - accuracy: 0.87 - ETA: 0s - loss: 0.3280 - accuracy: 0.87 - ETA: 0s - loss: 0.3281 - accuracy: 0.87 - ETA: 0s - loss: 0.3280 - accuracy: 0.87 - ETA: 0s - loss: 0.3280 - accuracy: 0.87 - ETA: 0s - loss: 0.3281 - accuracy: 0.87 - ETA: 0s - loss: 0.3277 - accuracy: 0.87 - ETA: 0s - loss: 0.3274 - accuracy: 0.88 - ETA: 0s - loss: 0.3270 - accuracy: 0.88 - ETA: 0s - loss: 0.3267 - accuracy: 0.88 - ETA: 0s - loss: 0.3268 - accuracy: 0.88 - 10s 5ms/step - loss: 0.3267 - accuracy: 0.8804 - val_loss: 0.3810 - val_accuracy: 0.8584\n",
      "Epoch 4/10\n"
     ]
    },
    {
     "name": "stdout",
     "output_type": "stream",
     "text": [
      "1875/1875 [==============================] - ETA: 0s - loss: 0.1386 - accuracy: 0.96 - ETA: 6s - loss: 0.3135 - accuracy: 0.88 - ETA: 6s - loss: 0.3031 - accuracy: 0.88 - ETA: 6s - loss: 0.2902 - accuracy: 0.89 - ETA: 5s - loss: 0.2881 - accuracy: 0.89 - ETA: 5s - loss: 0.2945 - accuracy: 0.89 - ETA: 5s - loss: 0.2887 - accuracy: 0.89 - ETA: 5s - loss: 0.2830 - accuracy: 0.89 - ETA: 5s - loss: 0.2890 - accuracy: 0.89 - ETA: 5s - loss: 0.2899 - accuracy: 0.88 - ETA: 5s - loss: 0.2891 - accuracy: 0.89 - ETA: 5s - loss: 0.2941 - accuracy: 0.88 - ETA: 5s - loss: 0.2948 - accuracy: 0.88 - ETA: 5s - loss: 0.2962 - accuracy: 0.88 - ETA: 5s - loss: 0.2990 - accuracy: 0.88 - ETA: 5s - loss: 0.2971 - accuracy: 0.88 - ETA: 5s - loss: 0.2959 - accuracy: 0.88 - ETA: 5s - loss: 0.2957 - accuracy: 0.89 - ETA: 5s - loss: 0.2952 - accuracy: 0.89 - ETA: 5s - loss: 0.2951 - accuracy: 0.89 - ETA: 5s - loss: 0.2936 - accuracy: 0.89 - ETA: 5s - loss: 0.2927 - accuracy: 0.89 - ETA: 5s - loss: 0.2916 - accuracy: 0.89 - ETA: 5s - loss: 0.2912 - accuracy: 0.89 - ETA: 5s - loss: 0.2911 - accuracy: 0.89 - ETA: 5s - loss: 0.2946 - accuracy: 0.89 - ETA: 5s - loss: 0.2950 - accuracy: 0.89 - ETA: 5s - loss: 0.2960 - accuracy: 0.89 - ETA: 5s - loss: 0.2992 - accuracy: 0.89 - ETA: 5s - loss: 0.3005 - accuracy: 0.89 - ETA: 4s - loss: 0.3016 - accuracy: 0.88 - ETA: 4s - loss: 0.3008 - accuracy: 0.88 - ETA: 4s - loss: 0.3014 - accuracy: 0.88 - ETA: 4s - loss: 0.3029 - accuracy: 0.88 - ETA: 4s - loss: 0.3025 - accuracy: 0.88 - ETA: 4s - loss: 0.3015 - accuracy: 0.88 - ETA: 4s - loss: 0.3024 - accuracy: 0.88 - ETA: 4s - loss: 0.3013 - accuracy: 0.88 - ETA: 4s - loss: 0.3002 - accuracy: 0.88 - ETA: 4s - loss: 0.2998 - accuracy: 0.88 - ETA: 4s - loss: 0.2991 - accuracy: 0.88 - ETA: 4s - loss: 0.2990 - accuracy: 0.88 - ETA: 4s - loss: 0.2981 - accuracy: 0.88 - ETA: 4s - loss: 0.2970 - accuracy: 0.88 - ETA: 4s - loss: 0.2959 - accuracy: 0.89 - ETA: 4s - loss: 0.2965 - accuracy: 0.88 - ETA: 4s - loss: 0.2962 - accuracy: 0.88 - ETA: 4s - loss: 0.2958 - accuracy: 0.88 - ETA: 4s - loss: 0.2953 - accuracy: 0.88 - ETA: 4s - loss: 0.2940 - accuracy: 0.89 - ETA: 3s - loss: 0.2949 - accuracy: 0.89 - ETA: 3s - loss: 0.2960 - accuracy: 0.89 - ETA: 3s - loss: 0.2964 - accuracy: 0.88 - ETA: 3s - loss: 0.2963 - accuracy: 0.88 - ETA: 3s - loss: 0.2957 - accuracy: 0.89 - ETA: 3s - loss: 0.2959 - accuracy: 0.89 - ETA: 3s - loss: 0.2974 - accuracy: 0.88 - ETA: 3s - loss: 0.2983 - accuracy: 0.88 - ETA: 3s - loss: 0.2984 - accuracy: 0.88 - ETA: 3s - loss: 0.2986 - accuracy: 0.88 - ETA: 3s - loss: 0.2990 - accuracy: 0.88 - ETA: 3s - loss: 0.2991 - accuracy: 0.88 - ETA: 3s - loss: 0.2994 - accuracy: 0.88 - ETA: 3s - loss: 0.3001 - accuracy: 0.88 - ETA: 3s - loss: 0.3001 - accuracy: 0.88 - ETA: 3s - loss: 0.3002 - accuracy: 0.88 - ETA: 3s - loss: 0.3003 - accuracy: 0.88 - ETA: 3s - loss: 0.3004 - accuracy: 0.88 - ETA: 3s - loss: 0.3001 - accuracy: 0.88 - ETA: 3s - loss: 0.2999 - accuracy: 0.88 - ETA: 3s - loss: 0.3002 - accuracy: 0.88 - ETA: 3s - loss: 0.2997 - accuracy: 0.88 - ETA: 3s - loss: 0.2999 - accuracy: 0.88 - ETA: 3s - loss: 0.2999 - accuracy: 0.88 - ETA: 3s - loss: 0.2999 - accuracy: 0.88 - ETA: 3s - loss: 0.3002 - accuracy: 0.88 - ETA: 3s - loss: 0.3001 - accuracy: 0.88 - ETA: 3s - loss: 0.3006 - accuracy: 0.88 - ETA: 3s - loss: 0.3012 - accuracy: 0.88 - ETA: 3s - loss: 0.3021 - accuracy: 0.88 - ETA: 3s - loss: 0.3017 - accuracy: 0.88 - ETA: 3s - loss: 0.3015 - accuracy: 0.88 - ETA: 3s - loss: 0.3019 - accuracy: 0.88 - ETA: 3s - loss: 0.3016 - accuracy: 0.88 - ETA: 3s - loss: 0.3013 - accuracy: 0.88 - ETA: 3s - loss: 0.3011 - accuracy: 0.88 - ETA: 3s - loss: 0.3012 - accuracy: 0.88 - ETA: 3s - loss: 0.3011 - accuracy: 0.88 - ETA: 3s - loss: 0.3017 - accuracy: 0.88 - ETA: 3s - loss: 0.3017 - accuracy: 0.88 - ETA: 3s - loss: 0.3017 - accuracy: 0.88 - ETA: 3s - loss: 0.3019 - accuracy: 0.88 - ETA: 2s - loss: 0.3019 - accuracy: 0.88 - ETA: 2s - loss: 0.3014 - accuracy: 0.88 - ETA: 2s - loss: 0.3014 - accuracy: 0.88 - ETA: 2s - loss: 0.3012 - accuracy: 0.88 - ETA: 2s - loss: 0.3009 - accuracy: 0.88 - ETA: 2s - loss: 0.3007 - accuracy: 0.88 - ETA: 2s - loss: 0.3004 - accuracy: 0.88 - ETA: 2s - loss: 0.3004 - accuracy: 0.88 - ETA: 2s - loss: 0.3005 - accuracy: 0.88 - ETA: 2s - loss: 0.3006 - accuracy: 0.88 - ETA: 2s - loss: 0.3004 - accuracy: 0.88 - ETA: 2s - loss: 0.3005 - accuracy: 0.88 - ETA: 2s - loss: 0.3003 - accuracy: 0.88 - ETA: 2s - loss: 0.3012 - accuracy: 0.88 - ETA: 2s - loss: 0.3009 - accuracy: 0.88 - ETA: 2s - loss: 0.3007 - accuracy: 0.88 - ETA: 2s - loss: 0.3006 - accuracy: 0.88 - ETA: 2s - loss: 0.3005 - accuracy: 0.88 - ETA: 2s - loss: 0.3004 - accuracy: 0.88 - ETA: 2s - loss: 0.3003 - accuracy: 0.88 - ETA: 2s - loss: 0.3005 - accuracy: 0.88 - ETA: 2s - loss: 0.3006 - accuracy: 0.88 - ETA: 2s - loss: 0.3006 - accuracy: 0.88 - ETA: 2s - loss: 0.3007 - accuracy: 0.88 - ETA: 2s - loss: 0.3002 - accuracy: 0.88 - ETA: 2s - loss: 0.3004 - accuracy: 0.88 - ETA: 2s - loss: 0.3002 - accuracy: 0.88 - ETA: 2s - loss: 0.3000 - accuracy: 0.88 - ETA: 2s - loss: 0.3000 - accuracy: 0.88 - ETA: 2s - loss: 0.2999 - accuracy: 0.88 - ETA: 2s - loss: 0.3000 - accuracy: 0.88 - ETA: 2s - loss: 0.3001 - accuracy: 0.88 - ETA: 2s - loss: 0.3000 - accuracy: 0.88 - ETA: 2s - loss: 0.3000 - accuracy: 0.88 - ETA: 2s - loss: 0.2996 - accuracy: 0.88 - ETA: 2s - loss: 0.3002 - accuracy: 0.88 - ETA: 2s - loss: 0.3001 - accuracy: 0.88 - ETA: 2s - loss: 0.3002 - accuracy: 0.88 - ETA: 2s - loss: 0.3001 - accuracy: 0.88 - ETA: 2s - loss: 0.3003 - accuracy: 0.88 - ETA: 2s - loss: 0.3003 - accuracy: 0.88 - ETA: 2s - loss: 0.3003 - accuracy: 0.88 - ETA: 1s - loss: 0.3004 - accuracy: 0.88 - ETA: 1s - loss: 0.3007 - accuracy: 0.88 - ETA: 1s - loss: 0.3007 - accuracy: 0.88 - ETA: 1s - loss: 0.3007 - accuracy: 0.88 - ETA: 1s - loss: 0.3003 - accuracy: 0.88 - ETA: 1s - loss: 0.3003 - accuracy: 0.88 - ETA: 1s - loss: 0.3004 - accuracy: 0.88 - ETA: 1s - loss: 0.3003 - accuracy: 0.88 - ETA: 1s - loss: 0.3005 - accuracy: 0.88 - ETA: 1s - loss: 0.3009 - accuracy: 0.88 - ETA: 1s - loss: 0.3005 - accuracy: 0.88 - ETA: 1s - loss: 0.3001 - accuracy: 0.88 - ETA: 1s - loss: 0.2997 - accuracy: 0.88 - ETA: 1s - loss: 0.2997 - accuracy: 0.88 - ETA: 1s - loss: 0.2996 - accuracy: 0.88 - ETA: 1s - loss: 0.2995 - accuracy: 0.88 - ETA: 1s - loss: 0.2995 - accuracy: 0.88 - ETA: 1s - loss: 0.2996 - accuracy: 0.88 - ETA: 1s - loss: 0.2998 - accuracy: 0.88 - ETA: 1s - loss: 0.2999 - accuracy: 0.88 - ETA: 1s - loss: 0.3001 - accuracy: 0.88 - ETA: 0s - loss: 0.2999 - accuracy: 0.88 - ETA: 0s - loss: 0.2997 - accuracy: 0.88 - ETA: 0s - loss: 0.2997 - accuracy: 0.88 - ETA: 0s - loss: 0.2997 - accuracy: 0.88 - ETA: 0s - loss: 0.2996 - accuracy: 0.88 - ETA: 0s - loss: 0.2994 - accuracy: 0.88 - ETA: 0s - loss: 0.3000 - accuracy: 0.88 - ETA: 0s - loss: 0.2998 - accuracy: 0.88 - ETA: 0s - loss: 0.2998 - accuracy: 0.88 - ETA: 0s - loss: 0.3001 - accuracy: 0.88 - ETA: 0s - loss: 0.3005 - accuracy: 0.88 - ETA: 0s - loss: 0.3005 - accuracy: 0.88 - ETA: 0s - loss: 0.3007 - accuracy: 0.88 - ETA: 0s - loss: 0.3005 - accuracy: 0.88 - ETA: 0s - loss: 0.3006 - accuracy: 0.88 - ETA: 0s - loss: 0.3003 - accuracy: 0.88 - ETA: 0s - loss: 0.3001 - accuracy: 0.88 - ETA: 0s - loss: 0.3000 - accuracy: 0.88 - ETA: 0s - loss: 0.2997 - accuracy: 0.88 - 10s 5ms/step - loss: 0.3000 - accuracy: 0.8876 - val_loss: 0.3658 - val_accuracy: 0.8737\n",
      "Epoch 5/10\n"
     ]
    },
    {
     "name": "stdout",
     "output_type": "stream",
     "text": [
      "1875/1875 [==============================] - ETA: 0s - loss: 0.1521 - accuracy: 0.96 - ETA: 10s - loss: 0.2811 - accuracy: 0.906 - ETA: 11s - loss: 0.2494 - accuracy: 0.906 - ETA: 12s - loss: 0.2283 - accuracy: 0.915 - ETA: 12s - loss: 0.2422 - accuracy: 0.906 - ETA: 12s - loss: 0.2618 - accuracy: 0.900 - ETA: 12s - loss: 0.2731 - accuracy: 0.900 - ETA: 12s - loss: 0.2733 - accuracy: 0.901 - ETA: 11s - loss: 0.2682 - accuracy: 0.903 - ETA: 10s - loss: 0.2693 - accuracy: 0.902 - ETA: 9s - loss: 0.2720 - accuracy: 0.900 - ETA: 9s - loss: 0.2737 - accuracy: 0.90 - ETA: 8s - loss: 0.2719 - accuracy: 0.90 - ETA: 8s - loss: 0.2731 - accuracy: 0.90 - ETA: 8s - loss: 0.2755 - accuracy: 0.90 - ETA: 7s - loss: 0.2735 - accuracy: 0.90 - ETA: 7s - loss: 0.2768 - accuracy: 0.90 - ETA: 7s - loss: 0.2805 - accuracy: 0.90 - ETA: 7s - loss: 0.2821 - accuracy: 0.89 - ETA: 7s - loss: 0.2828 - accuracy: 0.89 - ETA: 7s - loss: 0.2817 - accuracy: 0.89 - ETA: 7s - loss: 0.2818 - accuracy: 0.89 - ETA: 7s - loss: 0.2823 - accuracy: 0.89 - ETA: 7s - loss: 0.2814 - accuracy: 0.89 - ETA: 7s - loss: 0.2820 - accuracy: 0.89 - ETA: 7s - loss: 0.2804 - accuracy: 0.89 - ETA: 8s - loss: 0.2780 - accuracy: 0.89 - ETA: 8s - loss: 0.2772 - accuracy: 0.89 - ETA: 8s - loss: 0.2764 - accuracy: 0.89 - ETA: 8s - loss: 0.2770 - accuracy: 0.89 - ETA: 8s - loss: 0.2779 - accuracy: 0.89 - ETA: 8s - loss: 0.2793 - accuracy: 0.89 - ETA: 8s - loss: 0.2787 - accuracy: 0.89 - ETA: 8s - loss: 0.2787 - accuracy: 0.89 - ETA: 9s - loss: 0.2780 - accuracy: 0.89 - ETA: 9s - loss: 0.2783 - accuracy: 0.89 - ETA: 9s - loss: 0.2772 - accuracy: 0.89 - ETA: 9s - loss: 0.2770 - accuracy: 0.89 - ETA: 9s - loss: 0.2765 - accuracy: 0.89 - ETA: 8s - loss: 0.2765 - accuracy: 0.89 - ETA: 8s - loss: 0.2768 - accuracy: 0.89 - ETA: 8s - loss: 0.2784 - accuracy: 0.89 - ETA: 8s - loss: 0.2795 - accuracy: 0.89 - ETA: 8s - loss: 0.2782 - accuracy: 0.89 - ETA: 7s - loss: 0.2802 - accuracy: 0.89 - ETA: 7s - loss: 0.2813 - accuracy: 0.89 - ETA: 7s - loss: 0.2792 - accuracy: 0.89 - ETA: 7s - loss: 0.2797 - accuracy: 0.89 - ETA: 7s - loss: 0.2790 - accuracy: 0.89 - ETA: 7s - loss: 0.2786 - accuracy: 0.89 - ETA: 7s - loss: 0.2787 - accuracy: 0.89 - ETA: 7s - loss: 0.2789 - accuracy: 0.89 - ETA: 7s - loss: 0.2789 - accuracy: 0.89 - ETA: 7s - loss: 0.2797 - accuracy: 0.89 - ETA: 7s - loss: 0.2794 - accuracy: 0.89 - ETA: 7s - loss: 0.2788 - accuracy: 0.89 - ETA: 7s - loss: 0.2786 - accuracy: 0.89 - ETA: 7s - loss: 0.2795 - accuracy: 0.89 - ETA: 7s - loss: 0.2809 - accuracy: 0.89 - ETA: 7s - loss: 0.2822 - accuracy: 0.89 - ETA: 7s - loss: 0.2826 - accuracy: 0.89 - ETA: 7s - loss: 0.2825 - accuracy: 0.89 - ETA: 7s - loss: 0.2826 - accuracy: 0.89 - ETA: 7s - loss: 0.2824 - accuracy: 0.89 - ETA: 7s - loss: 0.2830 - accuracy: 0.89 - ETA: 7s - loss: 0.2825 - accuracy: 0.89 - ETA: 7s - loss: 0.2818 - accuracy: 0.89 - ETA: 7s - loss: 0.2821 - accuracy: 0.89 - ETA: 6s - loss: 0.2814 - accuracy: 0.89 - ETA: 6s - loss: 0.2813 - accuracy: 0.89 - ETA: 6s - loss: 0.2808 - accuracy: 0.89 - ETA: 6s - loss: 0.2800 - accuracy: 0.89 - ETA: 6s - loss: 0.2790 - accuracy: 0.89 - ETA: 6s - loss: 0.2788 - accuracy: 0.89 - ETA: 6s - loss: 0.2789 - accuracy: 0.89 - ETA: 5s - loss: 0.2797 - accuracy: 0.89 - ETA: 5s - loss: 0.2805 - accuracy: 0.89 - ETA: 5s - loss: 0.2800 - accuracy: 0.89 - ETA: 5s - loss: 0.2801 - accuracy: 0.89 - ETA: 5s - loss: 0.2799 - accuracy: 0.89 - ETA: 5s - loss: 0.2802 - accuracy: 0.89 - ETA: 5s - loss: 0.2800 - accuracy: 0.89 - ETA: 6s - loss: 0.2802 - accuracy: 0.89 - ETA: 6s - loss: 0.2798 - accuracy: 0.89 - ETA: 6s - loss: 0.2801 - accuracy: 0.89 - ETA: 6s - loss: 0.2799 - accuracy: 0.89 - ETA: 6s - loss: 0.2802 - accuracy: 0.89 - ETA: 6s - loss: 0.2801 - accuracy: 0.89 - ETA: 6s - loss: 0.2801 - accuracy: 0.89 - ETA: 6s - loss: 0.2802 - accuracy: 0.89 - ETA: 6s - loss: 0.2810 - accuracy: 0.89 - ETA: 5s - loss: 0.2811 - accuracy: 0.89 - ETA: 5s - loss: 0.2809 - accuracy: 0.89 - ETA: 5s - loss: 0.2819 - accuracy: 0.89 - ETA: 5s - loss: 0.2817 - accuracy: 0.89 - ETA: 5s - loss: 0.2818 - accuracy: 0.89 - ETA: 5s - loss: 0.2812 - accuracy: 0.89 - ETA: 5s - loss: 0.2814 - accuracy: 0.89 - ETA: 5s - loss: 0.2809 - accuracy: 0.89 - ETA: 5s - loss: 0.2812 - accuracy: 0.89 - ETA: 5s - loss: 0.2809 - accuracy: 0.89 - ETA: 4s - loss: 0.2806 - accuracy: 0.89 - ETA: 4s - loss: 0.2811 - accuracy: 0.89 - ETA: 4s - loss: 0.2807 - accuracy: 0.89 - ETA: 4s - loss: 0.2802 - accuracy: 0.89 - ETA: 4s - loss: 0.2798 - accuracy: 0.89 - ETA: 4s - loss: 0.2792 - accuracy: 0.89 - ETA: 4s - loss: 0.2785 - accuracy: 0.89 - ETA: 4s - loss: 0.2786 - accuracy: 0.89 - ETA: 4s - loss: 0.2782 - accuracy: 0.89 - ETA: 4s - loss: 0.2787 - accuracy: 0.89 - ETA: 3s - loss: 0.2785 - accuracy: 0.89 - ETA: 3s - loss: 0.2787 - accuracy: 0.89 - ETA: 3s - loss: 0.2781 - accuracy: 0.89 - ETA: 3s - loss: 0.2779 - accuracy: 0.89 - ETA: 3s - loss: 0.2783 - accuracy: 0.89 - ETA: 3s - loss: 0.2779 - accuracy: 0.89 - ETA: 3s - loss: 0.2783 - accuracy: 0.89 - ETA: 3s - loss: 0.2778 - accuracy: 0.89 - ETA: 3s - loss: 0.2779 - accuracy: 0.89 - ETA: 3s - loss: 0.2782 - accuracy: 0.89 - ETA: 3s - loss: 0.2781 - accuracy: 0.89 - ETA: 3s - loss: 0.2780 - accuracy: 0.89 - ETA: 3s - loss: 0.2778 - accuracy: 0.89 - ETA: 3s - loss: 0.2776 - accuracy: 0.89 - ETA: 3s - loss: 0.2774 - accuracy: 0.89 - ETA: 3s - loss: 0.2775 - accuracy: 0.89 - ETA: 3s - loss: 0.2778 - accuracy: 0.89 - ETA: 3s - loss: 0.2777 - accuracy: 0.89 - ETA: 3s - loss: 0.2779 - accuracy: 0.89 - ETA: 2s - loss: 0.2788 - accuracy: 0.89 - ETA: 2s - loss: 0.2791 - accuracy: 0.89 - ETA: 2s - loss: 0.2794 - accuracy: 0.89 - ETA: 2s - loss: 0.2796 - accuracy: 0.89 - ETA: 2s - loss: 0.2798 - accuracy: 0.89 - ETA: 2s - loss: 0.2799 - accuracy: 0.89 - ETA: 2s - loss: 0.2799 - accuracy: 0.89 - ETA: 2s - loss: 0.2803 - accuracy: 0.89 - ETA: 2s - loss: 0.2803 - accuracy: 0.89 - ETA: 2s - loss: 0.2797 - accuracy: 0.89 - ETA: 2s - loss: 0.2798 - accuracy: 0.89 - ETA: 2s - loss: 0.2802 - accuracy: 0.89 - ETA: 2s - loss: 0.2800 - accuracy: 0.89 - ETA: 1s - loss: 0.2798 - accuracy: 0.89 - ETA: 1s - loss: 0.2804 - accuracy: 0.89 - ETA: 1s - loss: 0.2806 - accuracy: 0.89 - ETA: 1s - loss: 0.2808 - accuracy: 0.89 - ETA: 1s - loss: 0.2808 - accuracy: 0.89 - ETA: 1s - loss: 0.2806 - accuracy: 0.89 - ETA: 1s - loss: 0.2808 - accuracy: 0.89 - ETA: 1s - loss: 0.2804 - accuracy: 0.89 - ETA: 1s - loss: 0.2809 - accuracy: 0.89 - ETA: 1s - loss: 0.2814 - accuracy: 0.89 - ETA: 1s - loss: 0.2812 - accuracy: 0.89 - ETA: 1s - loss: 0.2810 - accuracy: 0.89 - ETA: 0s - loss: 0.2810 - accuracy: 0.89 - ETA: 0s - loss: 0.2811 - accuracy: 0.89 - ETA: 0s - loss: 0.2812 - accuracy: 0.89 - ETA: 0s - loss: 0.2813 - accuracy: 0.89 - ETA: 0s - loss: 0.2819 - accuracy: 0.89 - ETA: 0s - loss: 0.2821 - accuracy: 0.89 - ETA: 0s - loss: 0.2821 - accuracy: 0.89 - ETA: 0s - loss: 0.2822 - accuracy: 0.89 - ETA: 0s - loss: 0.2821 - accuracy: 0.89 - ETA: 0s - loss: 0.2822 - accuracy: 0.89 - ETA: 0s - loss: 0.2823 - accuracy: 0.89 - ETA: 0s - loss: 0.2823 - accuracy: 0.89 - 9s 5ms/step - loss: 0.2824 - accuracy: 0.8940 - val_loss: 0.3535 - val_accuracy: 0.8726\n",
      "Epoch 6/10\n"
     ]
    },
    {
     "name": "stdout",
     "output_type": "stream",
     "text": [
      "1875/1875 [==============================] - ETA: 0s - loss: 0.1457 - accuracy: 0.93 - ETA: 5s - loss: 0.3145 - accuracy: 0.88 - ETA: 5s - loss: 0.3047 - accuracy: 0.88 - ETA: 5s - loss: 0.2789 - accuracy: 0.89 - ETA: 5s - loss: 0.2803 - accuracy: 0.89 - ETA: 5s - loss: 0.2801 - accuracy: 0.89 - ETA: 5s - loss: 0.2717 - accuracy: 0.89 - ETA: 5s - loss: 0.2808 - accuracy: 0.89 - ETA: 5s - loss: 0.2742 - accuracy: 0.89 - ETA: 5s - loss: 0.2716 - accuracy: 0.90 - ETA: 5s - loss: 0.2686 - accuracy: 0.90 - ETA: 5s - loss: 0.2699 - accuracy: 0.90 - ETA: 5s - loss: 0.2693 - accuracy: 0.89 - ETA: 5s - loss: 0.2711 - accuracy: 0.89 - ETA: 5s - loss: 0.2725 - accuracy: 0.89 - ETA: 5s - loss: 0.2688 - accuracy: 0.89 - ETA: 5s - loss: 0.2684 - accuracy: 0.89 - ETA: 4s - loss: 0.2687 - accuracy: 0.89 - ETA: 4s - loss: 0.2678 - accuracy: 0.89 - ETA: 4s - loss: 0.2678 - accuracy: 0.90 - ETA: 4s - loss: 0.2652 - accuracy: 0.90 - ETA: 4s - loss: 0.2669 - accuracy: 0.90 - ETA: 4s - loss: 0.2686 - accuracy: 0.89 - ETA: 4s - loss: 0.2699 - accuracy: 0.89 - ETA: 4s - loss: 0.2689 - accuracy: 0.89 - ETA: 4s - loss: 0.2689 - accuracy: 0.89 - ETA: 4s - loss: 0.2686 - accuracy: 0.90 - ETA: 4s - loss: 0.2697 - accuracy: 0.89 - ETA: 4s - loss: 0.2690 - accuracy: 0.89 - ETA: 4s - loss: 0.2671 - accuracy: 0.89 - ETA: 4s - loss: 0.2672 - accuracy: 0.89 - ETA: 4s - loss: 0.2672 - accuracy: 0.89 - ETA: 4s - loss: 0.2676 - accuracy: 0.89 - ETA: 4s - loss: 0.2681 - accuracy: 0.89 - ETA: 4s - loss: 0.2678 - accuracy: 0.89 - ETA: 4s - loss: 0.2685 - accuracy: 0.89 - ETA: 4s - loss: 0.2686 - accuracy: 0.89 - ETA: 3s - loss: 0.2681 - accuracy: 0.89 - ETA: 3s - loss: 0.2666 - accuracy: 0.90 - ETA: 3s - loss: 0.2668 - accuracy: 0.90 - ETA: 3s - loss: 0.2670 - accuracy: 0.89 - ETA: 3s - loss: 0.2660 - accuracy: 0.90 - ETA: 3s - loss: 0.2665 - accuracy: 0.89 - ETA: 3s - loss: 0.2664 - accuracy: 0.90 - ETA: 3s - loss: 0.2667 - accuracy: 0.90 - ETA: 3s - loss: 0.2671 - accuracy: 0.90 - ETA: 3s - loss: 0.2678 - accuracy: 0.90 - ETA: 3s - loss: 0.2678 - accuracy: 0.90 - ETA: 3s - loss: 0.2673 - accuracy: 0.90 - ETA: 3s - loss: 0.2679 - accuracy: 0.90 - ETA: 3s - loss: 0.2683 - accuracy: 0.90 - ETA: 3s - loss: 0.2678 - accuracy: 0.90 - ETA: 3s - loss: 0.2685 - accuracy: 0.89 - ETA: 3s - loss: 0.2683 - accuracy: 0.89 - ETA: 3s - loss: 0.2683 - accuracy: 0.89 - ETA: 3s - loss: 0.2680 - accuracy: 0.90 - ETA: 3s - loss: 0.2678 - accuracy: 0.89 - ETA: 3s - loss: 0.2675 - accuracy: 0.90 - ETA: 3s - loss: 0.2671 - accuracy: 0.90 - ETA: 3s - loss: 0.2673 - accuracy: 0.90 - ETA: 3s - loss: 0.2674 - accuracy: 0.90 - ETA: 3s - loss: 0.2677 - accuracy: 0.90 - ETA: 2s - loss: 0.2685 - accuracy: 0.89 - ETA: 2s - loss: 0.2686 - accuracy: 0.89 - ETA: 2s - loss: 0.2683 - accuracy: 0.89 - ETA: 2s - loss: 0.2684 - accuracy: 0.89 - ETA: 2s - loss: 0.2683 - accuracy: 0.89 - ETA: 2s - loss: 0.2684 - accuracy: 0.89 - ETA: 2s - loss: 0.2683 - accuracy: 0.89 - ETA: 2s - loss: 0.2676 - accuracy: 0.89 - ETA: 2s - loss: 0.2675 - accuracy: 0.89 - ETA: 2s - loss: 0.2667 - accuracy: 0.90 - ETA: 2s - loss: 0.2661 - accuracy: 0.90 - ETA: 2s - loss: 0.2659 - accuracy: 0.90 - ETA: 2s - loss: 0.2659 - accuracy: 0.90 - ETA: 2s - loss: 0.2660 - accuracy: 0.90 - ETA: 2s - loss: 0.2659 - accuracy: 0.90 - ETA: 2s - loss: 0.2665 - accuracy: 0.90 - ETA: 2s - loss: 0.2666 - accuracy: 0.90 - ETA: 2s - loss: 0.2668 - accuracy: 0.90 - ETA: 2s - loss: 0.2667 - accuracy: 0.90 - ETA: 2s - loss: 0.2670 - accuracy: 0.90 - ETA: 2s - loss: 0.2667 - accuracy: 0.90 - ETA: 2s - loss: 0.2670 - accuracy: 0.90 - ETA: 1s - loss: 0.2670 - accuracy: 0.90 - ETA: 1s - loss: 0.2680 - accuracy: 0.90 - ETA: 1s - loss: 0.2686 - accuracy: 0.90 - ETA: 1s - loss: 0.2684 - accuracy: 0.90 - ETA: 1s - loss: 0.2680 - accuracy: 0.90 - ETA: 1s - loss: 0.2685 - accuracy: 0.90 - ETA: 1s - loss: 0.2680 - accuracy: 0.90 - ETA: 1s - loss: 0.2683 - accuracy: 0.90 - ETA: 1s - loss: 0.2678 - accuracy: 0.90 - ETA: 1s - loss: 0.2675 - accuracy: 0.90 - ETA: 1s - loss: 0.2671 - accuracy: 0.90 - ETA: 1s - loss: 0.2674 - accuracy: 0.90 - ETA: 1s - loss: 0.2683 - accuracy: 0.90 - ETA: 1s - loss: 0.2689 - accuracy: 0.90 - ETA: 1s - loss: 0.2697 - accuracy: 0.90 - ETA: 1s - loss: 0.2693 - accuracy: 0.90 - ETA: 1s - loss: 0.2697 - accuracy: 0.90 - ETA: 1s - loss: 0.2691 - accuracy: 0.90 - ETA: 0s - loss: 0.2692 - accuracy: 0.90 - ETA: 0s - loss: 0.2689 - accuracy: 0.90 - ETA: 0s - loss: 0.2688 - accuracy: 0.90 - ETA: 0s - loss: 0.2684 - accuracy: 0.90 - ETA: 0s - loss: 0.2682 - accuracy: 0.90 - ETA: 0s - loss: 0.2682 - accuracy: 0.90 - ETA: 0s - loss: 0.2682 - accuracy: 0.90 - ETA: 0s - loss: 0.2677 - accuracy: 0.90 - ETA: 0s - loss: 0.2679 - accuracy: 0.90 - ETA: 0s - loss: 0.2678 - accuracy: 0.90 - ETA: 0s - loss: 0.2677 - accuracy: 0.90 - ETA: 0s - loss: 0.2674 - accuracy: 0.90 - ETA: 0s - loss: 0.2677 - accuracy: 0.90 - ETA: 0s - loss: 0.2674 - accuracy: 0.90 - ETA: 0s - loss: 0.2670 - accuracy: 0.90 - ETA: 0s - loss: 0.2673 - accuracy: 0.90 - ETA: 0s - loss: 0.2674 - accuracy: 0.90 - ETA: 0s - loss: 0.2675 - accuracy: 0.90 - 7s 4ms/step - loss: 0.2674 - accuracy: 0.9011 - val_loss: 0.3377 - val_accuracy: 0.8759\n",
      "Epoch 7/10\n"
     ]
    },
    {
     "name": "stdout",
     "output_type": "stream",
     "text": [
      "1875/1875 [==============================] - ETA: 0s - loss: 0.6738 - accuracy: 0.78 - ETA: 5s - loss: 0.2673 - accuracy: 0.89 - ETA: 5s - loss: 0.2537 - accuracy: 0.91 - ETA: 5s - loss: 0.2421 - accuracy: 0.91 - ETA: 5s - loss: 0.2363 - accuracy: 0.91 - ETA: 5s - loss: 0.2485 - accuracy: 0.90 - ETA: 5s - loss: 0.2471 - accuracy: 0.90 - ETA: 5s - loss: 0.2544 - accuracy: 0.90 - ETA: 5s - loss: 0.2569 - accuracy: 0.90 - ETA: 5s - loss: 0.2551 - accuracy: 0.90 - ETA: 5s - loss: 0.2573 - accuracy: 0.90 - ETA: 5s - loss: 0.2530 - accuracy: 0.90 - ETA: 5s - loss: 0.2575 - accuracy: 0.90 - ETA: 5s - loss: 0.2543 - accuracy: 0.90 - ETA: 5s - loss: 0.2505 - accuracy: 0.90 - ETA: 5s - loss: 0.2507 - accuracy: 0.90 - ETA: 5s - loss: 0.2523 - accuracy: 0.90 - ETA: 4s - loss: 0.2516 - accuracy: 0.90 - ETA: 4s - loss: 0.2495 - accuracy: 0.90 - ETA: 4s - loss: 0.2485 - accuracy: 0.90 - ETA: 4s - loss: 0.2486 - accuracy: 0.90 - ETA: 4s - loss: 0.2469 - accuracy: 0.90 - ETA: 4s - loss: 0.2468 - accuracy: 0.90 - ETA: 4s - loss: 0.2469 - accuracy: 0.90 - ETA: 4s - loss: 0.2464 - accuracy: 0.90 - ETA: 4s - loss: 0.2450 - accuracy: 0.91 - ETA: 4s - loss: 0.2439 - accuracy: 0.91 - ETA: 4s - loss: 0.2445 - accuracy: 0.91 - ETA: 4s - loss: 0.2464 - accuracy: 0.90 - ETA: 4s - loss: 0.2471 - accuracy: 0.90 - ETA: 4s - loss: 0.2476 - accuracy: 0.90 - ETA: 4s - loss: 0.2486 - accuracy: 0.90 - ETA: 4s - loss: 0.2489 - accuracy: 0.90 - ETA: 4s - loss: 0.2491 - accuracy: 0.90 - ETA: 4s - loss: 0.2501 - accuracy: 0.90 - ETA: 4s - loss: 0.2513 - accuracy: 0.90 - ETA: 4s - loss: 0.2498 - accuracy: 0.90 - ETA: 3s - loss: 0.2496 - accuracy: 0.90 - ETA: 3s - loss: 0.2507 - accuracy: 0.90 - ETA: 3s - loss: 0.2507 - accuracy: 0.90 - ETA: 3s - loss: 0.2507 - accuracy: 0.90 - ETA: 3s - loss: 0.2493 - accuracy: 0.90 - ETA: 3s - loss: 0.2495 - accuracy: 0.90 - ETA: 3s - loss: 0.2491 - accuracy: 0.90 - ETA: 3s - loss: 0.2491 - accuracy: 0.90 - ETA: 3s - loss: 0.2492 - accuracy: 0.90 - ETA: 3s - loss: 0.2487 - accuracy: 0.90 - ETA: 3s - loss: 0.2483 - accuracy: 0.90 - ETA: 3s - loss: 0.2481 - accuracy: 0.90 - ETA: 3s - loss: 0.2481 - accuracy: 0.90 - ETA: 3s - loss: 0.2481 - accuracy: 0.90 - ETA: 3s - loss: 0.2477 - accuracy: 0.90 - ETA: 3s - loss: 0.2486 - accuracy: 0.90 - ETA: 3s - loss: 0.2483 - accuracy: 0.90 - ETA: 3s - loss: 0.2481 - accuracy: 0.90 - ETA: 3s - loss: 0.2490 - accuracy: 0.90 - ETA: 3s - loss: 0.2490 - accuracy: 0.90 - ETA: 2s - loss: 0.2490 - accuracy: 0.90 - ETA: 2s - loss: 0.2486 - accuracy: 0.90 - ETA: 2s - loss: 0.2487 - accuracy: 0.90 - ETA: 2s - loss: 0.2485 - accuracy: 0.90 - ETA: 2s - loss: 0.2490 - accuracy: 0.90 - ETA: 2s - loss: 0.2496 - accuracy: 0.90 - ETA: 2s - loss: 0.2500 - accuracy: 0.90 - ETA: 2s - loss: 0.2502 - accuracy: 0.90 - ETA: 2s - loss: 0.2506 - accuracy: 0.90 - ETA: 2s - loss: 0.2506 - accuracy: 0.90 - ETA: 2s - loss: 0.2504 - accuracy: 0.90 - ETA: 2s - loss: 0.2511 - accuracy: 0.90 - ETA: 2s - loss: 0.2509 - accuracy: 0.90 - ETA: 2s - loss: 0.2514 - accuracy: 0.90 - ETA: 2s - loss: 0.2516 - accuracy: 0.90 - ETA: 2s - loss: 0.2529 - accuracy: 0.90 - ETA: 2s - loss: 0.2526 - accuracy: 0.90 - ETA: 2s - loss: 0.2525 - accuracy: 0.90 - ETA: 2s - loss: 0.2522 - accuracy: 0.90 - ETA: 1s - loss: 0.2528 - accuracy: 0.90 - ETA: 1s - loss: 0.2529 - accuracy: 0.90 - ETA: 1s - loss: 0.2527 - accuracy: 0.90 - ETA: 1s - loss: 0.2525 - accuracy: 0.90 - ETA: 1s - loss: 0.2523 - accuracy: 0.90 - ETA: 1s - loss: 0.2529 - accuracy: 0.90 - ETA: 1s - loss: 0.2532 - accuracy: 0.90 - ETA: 1s - loss: 0.2538 - accuracy: 0.90 - ETA: 1s - loss: 0.2546 - accuracy: 0.90 - ETA: 1s - loss: 0.2548 - accuracy: 0.90 - ETA: 1s - loss: 0.2549 - accuracy: 0.90 - ETA: 1s - loss: 0.2547 - accuracy: 0.90 - ETA: 1s - loss: 0.2543 - accuracy: 0.90 - ETA: 1s - loss: 0.2543 - accuracy: 0.90 - ETA: 1s - loss: 0.2546 - accuracy: 0.90 - ETA: 1s - loss: 0.2548 - accuracy: 0.90 - ETA: 1s - loss: 0.2541 - accuracy: 0.90 - ETA: 1s - loss: 0.2541 - accuracy: 0.90 - ETA: 1s - loss: 0.2545 - accuracy: 0.90 - ETA: 1s - loss: 0.2546 - accuracy: 0.90 - ETA: 0s - loss: 0.2541 - accuracy: 0.90 - ETA: 0s - loss: 0.2540 - accuracy: 0.90 - ETA: 0s - loss: 0.2541 - accuracy: 0.90 - ETA: 0s - loss: 0.2541 - accuracy: 0.90 - ETA: 0s - loss: 0.2542 - accuracy: 0.90 - ETA: 0s - loss: 0.2547 - accuracy: 0.90 - ETA: 0s - loss: 0.2543 - accuracy: 0.90 - ETA: 0s - loss: 0.2542 - accuracy: 0.90 - ETA: 0s - loss: 0.2547 - accuracy: 0.90 - ETA: 0s - loss: 0.2549 - accuracy: 0.90 - ETA: 0s - loss: 0.2554 - accuracy: 0.90 - ETA: 0s - loss: 0.2553 - accuracy: 0.90 - ETA: 0s - loss: 0.2553 - accuracy: 0.90 - ETA: 0s - loss: 0.2552 - accuracy: 0.90 - ETA: 0s - loss: 0.2552 - accuracy: 0.90 - ETA: 0s - loss: 0.2550 - accuracy: 0.90 - ETA: 0s - loss: 0.2549 - accuracy: 0.90 - ETA: 0s - loss: 0.2547 - accuracy: 0.90 - ETA: 0s - loss: 0.2544 - accuracy: 0.90 - 6s 3ms/step - loss: 0.2544 - accuracy: 0.9049 - val_loss: 0.3403 - val_accuracy: 0.8815\n",
      "Epoch 8/10\n"
     ]
    },
    {
     "name": "stdout",
     "output_type": "stream",
     "text": [
      "1875/1875 [==============================] - ETA: 0s - loss: 0.1613 - accuracy: 0.90 - ETA: 5s - loss: 0.2616 - accuracy: 0.90 - ETA: 5s - loss: 0.2620 - accuracy: 0.90 - ETA: 5s - loss: 0.2522 - accuracy: 0.90 - ETA: 5s - loss: 0.2512 - accuracy: 0.90 - ETA: 5s - loss: 0.2493 - accuracy: 0.90 - ETA: 5s - loss: 0.2397 - accuracy: 0.91 - ETA: 5s - loss: 0.2406 - accuracy: 0.91 - ETA: 5s - loss: 0.2440 - accuracy: 0.90 - ETA: 5s - loss: 0.2425 - accuracy: 0.90 - ETA: 5s - loss: 0.2424 - accuracy: 0.90 - ETA: 5s - loss: 0.2427 - accuracy: 0.90 - ETA: 5s - loss: 0.2440 - accuracy: 0.90 - ETA: 5s - loss: 0.2481 - accuracy: 0.90 - ETA: 5s - loss: 0.2463 - accuracy: 0.90 - ETA: 5s - loss: 0.2434 - accuracy: 0.91 - ETA: 5s - loss: 0.2437 - accuracy: 0.91 - ETA: 4s - loss: 0.2420 - accuracy: 0.91 - ETA: 4s - loss: 0.2413 - accuracy: 0.91 - ETA: 4s - loss: 0.2417 - accuracy: 0.91 - ETA: 4s - loss: 0.2433 - accuracy: 0.91 - ETA: 4s - loss: 0.2460 - accuracy: 0.90 - ETA: 4s - loss: 0.2472 - accuracy: 0.90 - ETA: 4s - loss: 0.2455 - accuracy: 0.90 - ETA: 4s - loss: 0.2449 - accuracy: 0.90 - ETA: 4s - loss: 0.2463 - accuracy: 0.90 - ETA: 4s - loss: 0.2466 - accuracy: 0.90 - ETA: 4s - loss: 0.2462 - accuracy: 0.90 - ETA: 4s - loss: 0.2459 - accuracy: 0.90 - ETA: 4s - loss: 0.2466 - accuracy: 0.90 - ETA: 4s - loss: 0.2479 - accuracy: 0.90 - ETA: 4s - loss: 0.2474 - accuracy: 0.90 - ETA: 4s - loss: 0.2464 - accuracy: 0.90 - ETA: 4s - loss: 0.2454 - accuracy: 0.90 - ETA: 4s - loss: 0.2453 - accuracy: 0.90 - ETA: 4s - loss: 0.2448 - accuracy: 0.90 - ETA: 4s - loss: 0.2443 - accuracy: 0.90 - ETA: 4s - loss: 0.2452 - accuracy: 0.90 - ETA: 4s - loss: 0.2465 - accuracy: 0.90 - ETA: 3s - loss: 0.2467 - accuracy: 0.90 - ETA: 3s - loss: 0.2467 - accuracy: 0.90 - ETA: 3s - loss: 0.2471 - accuracy: 0.90 - ETA: 3s - loss: 0.2474 - accuracy: 0.90 - ETA: 3s - loss: 0.2474 - accuracy: 0.90 - ETA: 3s - loss: 0.2476 - accuracy: 0.90 - ETA: 3s - loss: 0.2482 - accuracy: 0.90 - ETA: 3s - loss: 0.2487 - accuracy: 0.90 - ETA: 3s - loss: 0.2483 - accuracy: 0.90 - ETA: 3s - loss: 0.2477 - accuracy: 0.90 - ETA: 3s - loss: 0.2480 - accuracy: 0.90 - ETA: 3s - loss: 0.2488 - accuracy: 0.90 - ETA: 3s - loss: 0.2488 - accuracy: 0.90 - ETA: 3s - loss: 0.2496 - accuracy: 0.90 - ETA: 3s - loss: 0.2487 - accuracy: 0.90 - ETA: 3s - loss: 0.2488 - accuracy: 0.90 - ETA: 3s - loss: 0.2485 - accuracy: 0.90 - ETA: 3s - loss: 0.2483 - accuracy: 0.90 - ETA: 3s - loss: 0.2474 - accuracy: 0.90 - ETA: 3s - loss: 0.2472 - accuracy: 0.90 - ETA: 3s - loss: 0.2467 - accuracy: 0.90 - ETA: 2s - loss: 0.2461 - accuracy: 0.90 - ETA: 2s - loss: 0.2470 - accuracy: 0.90 - ETA: 2s - loss: 0.2478 - accuracy: 0.90 - ETA: 2s - loss: 0.2480 - accuracy: 0.90 - ETA: 2s - loss: 0.2484 - accuracy: 0.90 - ETA: 2s - loss: 0.2482 - accuracy: 0.90 - ETA: 2s - loss: 0.2475 - accuracy: 0.90 - ETA: 2s - loss: 0.2473 - accuracy: 0.90 - ETA: 2s - loss: 0.2474 - accuracy: 0.90 - ETA: 2s - loss: 0.2469 - accuracy: 0.90 - ETA: 2s - loss: 0.2464 - accuracy: 0.90 - ETA: 2s - loss: 0.2461 - accuracy: 0.90 - ETA: 2s - loss: 0.2457 - accuracy: 0.90 - ETA: 2s - loss: 0.2455 - accuracy: 0.90 - ETA: 2s - loss: 0.2451 - accuracy: 0.90 - ETA: 2s - loss: 0.2452 - accuracy: 0.90 - ETA: 2s - loss: 0.2455 - accuracy: 0.90 - ETA: 2s - loss: 0.2455 - accuracy: 0.90 - ETA: 2s - loss: 0.2455 - accuracy: 0.90 - ETA: 2s - loss: 0.2459 - accuracy: 0.90 - ETA: 2s - loss: 0.2457 - accuracy: 0.90 - ETA: 2s - loss: 0.2456 - accuracy: 0.90 - ETA: 2s - loss: 0.2455 - accuracy: 0.90 - ETA: 2s - loss: 0.2454 - accuracy: 0.90 - ETA: 2s - loss: 0.2454 - accuracy: 0.90 - ETA: 2s - loss: 0.2453 - accuracy: 0.90 - ETA: 2s - loss: 0.2452 - accuracy: 0.90 - ETA: 2s - loss: 0.2448 - accuracy: 0.90 - ETA: 2s - loss: 0.2448 - accuracy: 0.90 - ETA: 2s - loss: 0.2445 - accuracy: 0.90 - ETA: 2s - loss: 0.2448 - accuracy: 0.90 - ETA: 2s - loss: 0.2449 - accuracy: 0.90 - ETA: 2s - loss: 0.2450 - accuracy: 0.90 - ETA: 2s - loss: 0.2443 - accuracy: 0.90 - ETA: 2s - loss: 0.2443 - accuracy: 0.90 - ETA: 2s - loss: 0.2438 - accuracy: 0.90 - ETA: 2s - loss: 0.2442 - accuracy: 0.90 - ETA: 2s - loss: 0.2441 - accuracy: 0.90 - ETA: 2s - loss: 0.2440 - accuracy: 0.90 - ETA: 2s - loss: 0.2434 - accuracy: 0.90 - ETA: 2s - loss: 0.2434 - accuracy: 0.90 - ETA: 2s - loss: 0.2434 - accuracy: 0.90 - ETA: 1s - loss: 0.2435 - accuracy: 0.90 - ETA: 2s - loss: 0.2434 - accuracy: 0.90 - ETA: 1s - loss: 0.2432 - accuracy: 0.90 - ETA: 1s - loss: 0.2432 - accuracy: 0.90 - ETA: 1s - loss: 0.2434 - accuracy: 0.90 - ETA: 1s - loss: 0.2430 - accuracy: 0.90 - ETA: 1s - loss: 0.2430 - accuracy: 0.90 - ETA: 1s - loss: 0.2428 - accuracy: 0.90 - ETA: 1s - loss: 0.2429 - accuracy: 0.90 - ETA: 1s - loss: 0.2430 - accuracy: 0.90 - ETA: 1s - loss: 0.2431 - accuracy: 0.90 - ETA: 1s - loss: 0.2433 - accuracy: 0.90 - ETA: 1s - loss: 0.2436 - accuracy: 0.90 - ETA: 1s - loss: 0.2435 - accuracy: 0.90 - ETA: 1s - loss: 0.2433 - accuracy: 0.90 - ETA: 1s - loss: 0.2431 - accuracy: 0.90 - ETA: 1s - loss: 0.2428 - accuracy: 0.90 - ETA: 1s - loss: 0.2429 - accuracy: 0.90 - ETA: 1s - loss: 0.2427 - accuracy: 0.90 - ETA: 1s - loss: 0.2424 - accuracy: 0.90 - ETA: 1s - loss: 0.2423 - accuracy: 0.90 - ETA: 1s - loss: 0.2424 - accuracy: 0.90 - ETA: 1s - loss: 0.2428 - accuracy: 0.90 - ETA: 1s - loss: 0.2426 - accuracy: 0.90 - ETA: 1s - loss: 0.2426 - accuracy: 0.90 - ETA: 1s - loss: 0.2427 - accuracy: 0.90 - ETA: 1s - loss: 0.2432 - accuracy: 0.90 - ETA: 1s - loss: 0.2430 - accuracy: 0.90 - ETA: 1s - loss: 0.2429 - accuracy: 0.90 - ETA: 0s - loss: 0.2429 - accuracy: 0.90 - ETA: 0s - loss: 0.2430 - accuracy: 0.90 - ETA: 0s - loss: 0.2430 - accuracy: 0.90 - ETA: 0s - loss: 0.2430 - accuracy: 0.90 - ETA: 0s - loss: 0.2428 - accuracy: 0.90 - ETA: 0s - loss: 0.2427 - accuracy: 0.90 - ETA: 0s - loss: 0.2426 - accuracy: 0.90 - ETA: 0s - loss: 0.2427 - accuracy: 0.90 - ETA: 0s - loss: 0.2428 - accuracy: 0.90 - ETA: 0s - loss: 0.2427 - accuracy: 0.90 - ETA: 0s - loss: 0.2428 - accuracy: 0.90 - ETA: 0s - loss: 0.2427 - accuracy: 0.90 - ETA: 0s - loss: 0.2427 - accuracy: 0.90 - ETA: 0s - loss: 0.2427 - accuracy: 0.90 - ETA: 0s - loss: 0.2426 - accuracy: 0.90 - ETA: 0s - loss: 0.2426 - accuracy: 0.90 - ETA: 0s - loss: 0.2425 - accuracy: 0.90 - ETA: 0s - loss: 0.2425 - accuracy: 0.90 - ETA: 0s - loss: 0.2426 - accuracy: 0.90 - ETA: 0s - loss: 0.2426 - accuracy: 0.90 - ETA: 0s - loss: 0.2429 - accuracy: 0.90 - ETA: 0s - loss: 0.2429 - accuracy: 0.90 - ETA: 0s - loss: 0.2428 - accuracy: 0.90 - ETA: 0s - loss: 0.2430 - accuracy: 0.90 - ETA: 0s - loss: 0.2429 - accuracy: 0.90 - ETA: 0s - loss: 0.2430 - accuracy: 0.90 - ETA: 0s - loss: 0.2430 - accuracy: 0.91 - ETA: 0s - loss: 0.2426 - accuracy: 0.91 - ETA: 0s - loss: 0.2426 - accuracy: 0.91 - ETA: 0s - loss: 0.2428 - accuracy: 0.90 - ETA: 0s - loss: 0.2430 - accuracy: 0.91 - ETA: 0s - loss: 0.2427 - accuracy: 0.91 - ETA: 0s - loss: 0.2430 - accuracy: 0.90 - ETA: 0s - loss: 0.2430 - accuracy: 0.91 - ETA: 0s - loss: 0.2430 - accuracy: 0.90 - 9s 5ms/step - loss: 0.2430 - accuracy: 0.9099 - val_loss: 0.3415 - val_accuracy: 0.8784\n",
      "Epoch 9/10\n"
     ]
    },
    {
     "name": "stdout",
     "output_type": "stream",
     "text": [
      "1875/1875 [==============================] - ETA: 0s - loss: 0.3314 - accuracy: 0.84 - ETA: 7s - loss: 0.2760 - accuracy: 0.88 - ETA: 7s - loss: 0.2620 - accuracy: 0.89 - ETA: 7s - loss: 0.2259 - accuracy: 0.91 - ETA: 7s - loss: 0.2232 - accuracy: 0.91 - ETA: 7s - loss: 0.2202 - accuracy: 0.91 - ETA: 6s - loss: 0.2210 - accuracy: 0.91 - ETA: 6s - loss: 0.2246 - accuracy: 0.91 - ETA: 6s - loss: 0.2221 - accuracy: 0.91 - ETA: 7s - loss: 0.2229 - accuracy: 0.91 - ETA: 7s - loss: 0.2230 - accuracy: 0.91 - ETA: 7s - loss: 0.2264 - accuracy: 0.91 - ETA: 7s - loss: 0.2248 - accuracy: 0.91 - ETA: 7s - loss: 0.2274 - accuracy: 0.91 - ETA: 6s - loss: 0.2264 - accuracy: 0.91 - ETA: 6s - loss: 0.2280 - accuracy: 0.91 - ETA: 6s - loss: 0.2283 - accuracy: 0.91 - ETA: 6s - loss: 0.2286 - accuracy: 0.91 - ETA: 6s - loss: 0.2267 - accuracy: 0.91 - ETA: 6s - loss: 0.2285 - accuracy: 0.91 - ETA: 6s - loss: 0.2282 - accuracy: 0.91 - ETA: 6s - loss: 0.2273 - accuracy: 0.91 - ETA: 6s - loss: 0.2272 - accuracy: 0.91 - ETA: 6s - loss: 0.2291 - accuracy: 0.91 - ETA: 6s - loss: 0.2296 - accuracy: 0.91 - ETA: 6s - loss: 0.2293 - accuracy: 0.91 - ETA: 6s - loss: 0.2287 - accuracy: 0.91 - ETA: 6s - loss: 0.2293 - accuracy: 0.91 - ETA: 6s - loss: 0.2282 - accuracy: 0.91 - ETA: 6s - loss: 0.2282 - accuracy: 0.91 - ETA: 6s - loss: 0.2297 - accuracy: 0.91 - ETA: 5s - loss: 0.2293 - accuracy: 0.91 - ETA: 5s - loss: 0.2285 - accuracy: 0.91 - ETA: 5s - loss: 0.2283 - accuracy: 0.91 - ETA: 5s - loss: 0.2276 - accuracy: 0.91 - ETA: 5s - loss: 0.2271 - accuracy: 0.91 - ETA: 5s - loss: 0.2266 - accuracy: 0.91 - ETA: 5s - loss: 0.2258 - accuracy: 0.91 - ETA: 5s - loss: 0.2259 - accuracy: 0.91 - ETA: 5s - loss: 0.2251 - accuracy: 0.91 - ETA: 5s - loss: 0.2261 - accuracy: 0.91 - ETA: 5s - loss: 0.2243 - accuracy: 0.91 - ETA: 5s - loss: 0.2249 - accuracy: 0.91 - ETA: 5s - loss: 0.2261 - accuracy: 0.91 - ETA: 4s - loss: 0.2276 - accuracy: 0.91 - ETA: 4s - loss: 0.2268 - accuracy: 0.91 - ETA: 4s - loss: 0.2271 - accuracy: 0.91 - ETA: 4s - loss: 0.2269 - accuracy: 0.91 - ETA: 4s - loss: 0.2273 - accuracy: 0.91 - ETA: 4s - loss: 0.2275 - accuracy: 0.91 - ETA: 4s - loss: 0.2269 - accuracy: 0.91 - ETA: 4s - loss: 0.2271 - accuracy: 0.91 - ETA: 4s - loss: 0.2271 - accuracy: 0.91 - ETA: 4s - loss: 0.2273 - accuracy: 0.91 - ETA: 4s - loss: 0.2276 - accuracy: 0.91 - ETA: 4s - loss: 0.2275 - accuracy: 0.91 - ETA: 4s - loss: 0.2291 - accuracy: 0.91 - ETA: 4s - loss: 0.2293 - accuracy: 0.91 - ETA: 4s - loss: 0.2280 - accuracy: 0.91 - ETA: 4s - loss: 0.2280 - accuracy: 0.91 - ETA: 4s - loss: 0.2285 - accuracy: 0.91 - ETA: 4s - loss: 0.2293 - accuracy: 0.91 - ETA: 4s - loss: 0.2288 - accuracy: 0.91 - ETA: 4s - loss: 0.2300 - accuracy: 0.91 - ETA: 4s - loss: 0.2296 - accuracy: 0.91 - ETA: 4s - loss: 0.2292 - accuracy: 0.91 - ETA: 3s - loss: 0.2293 - accuracy: 0.91 - ETA: 3s - loss: 0.2295 - accuracy: 0.91 - ETA: 3s - loss: 0.2295 - accuracy: 0.91 - ETA: 3s - loss: 0.2291 - accuracy: 0.91 - ETA: 3s - loss: 0.2292 - accuracy: 0.91 - ETA: 3s - loss: 0.2285 - accuracy: 0.91 - ETA: 3s - loss: 0.2291 - accuracy: 0.91 - ETA: 3s - loss: 0.2285 - accuracy: 0.91 - ETA: 3s - loss: 0.2280 - accuracy: 0.91 - ETA: 3s - loss: 0.2287 - accuracy: 0.91 - ETA: 3s - loss: 0.2284 - accuracy: 0.91 - ETA: 3s - loss: 0.2285 - accuracy: 0.91 - ETA: 3s - loss: 0.2286 - accuracy: 0.91 - ETA: 3s - loss: 0.2287 - accuracy: 0.91 - ETA: 3s - loss: 0.2288 - accuracy: 0.91 - ETA: 3s - loss: 0.2287 - accuracy: 0.91 - ETA: 3s - loss: 0.2285 - accuracy: 0.91 - ETA: 3s - loss: 0.2284 - accuracy: 0.91 - ETA: 3s - loss: 0.2284 - accuracy: 0.91 - ETA: 3s - loss: 0.2284 - accuracy: 0.91 - ETA: 3s - loss: 0.2281 - accuracy: 0.91 - ETA: 3s - loss: 0.2280 - accuracy: 0.91 - ETA: 3s - loss: 0.2278 - accuracy: 0.91 - ETA: 3s - loss: 0.2282 - accuracy: 0.91 - ETA: 3s - loss: 0.2284 - accuracy: 0.91 - ETA: 3s - loss: 0.2288 - accuracy: 0.91 - ETA: 3s - loss: 0.2286 - accuracy: 0.91 - ETA: 3s - loss: 0.2284 - accuracy: 0.91 - ETA: 3s - loss: 0.2279 - accuracy: 0.91 - ETA: 3s - loss: 0.2275 - accuracy: 0.91 - ETA: 3s - loss: 0.2273 - accuracy: 0.91 - ETA: 2s - loss: 0.2269 - accuracy: 0.91 - ETA: 2s - loss: 0.2273 - accuracy: 0.91 - ETA: 2s - loss: 0.2275 - accuracy: 0.91 - ETA: 2s - loss: 0.2274 - accuracy: 0.91 - ETA: 2s - loss: 0.2268 - accuracy: 0.91 - ETA: 2s - loss: 0.2275 - accuracy: 0.91 - ETA: 2s - loss: 0.2274 - accuracy: 0.91 - ETA: 2s - loss: 0.2277 - accuracy: 0.91 - ETA: 2s - loss: 0.2281 - accuracy: 0.91 - ETA: 2s - loss: 0.2283 - accuracy: 0.91 - ETA: 2s - loss: 0.2287 - accuracy: 0.91 - ETA: 2s - loss: 0.2286 - accuracy: 0.91 - ETA: 2s - loss: 0.2286 - accuracy: 0.91 - ETA: 2s - loss: 0.2289 - accuracy: 0.91 - ETA: 2s - loss: 0.2294 - accuracy: 0.91 - ETA: 2s - loss: 0.2298 - accuracy: 0.91 - ETA: 2s - loss: 0.2305 - accuracy: 0.91 - ETA: 2s - loss: 0.2310 - accuracy: 0.91 - ETA: 1s - loss: 0.2309 - accuracy: 0.91 - ETA: 1s - loss: 0.2308 - accuracy: 0.91 - ETA: 1s - loss: 0.2305 - accuracy: 0.91 - ETA: 1s - loss: 0.2307 - accuracy: 0.91 - ETA: 1s - loss: 0.2302 - accuracy: 0.91 - ETA: 1s - loss: 0.2304 - accuracy: 0.91 - ETA: 1s - loss: 0.2305 - accuracy: 0.91 - ETA: 1s - loss: 0.2310 - accuracy: 0.91 - ETA: 1s - loss: 0.2305 - accuracy: 0.91 - ETA: 1s - loss: 0.2308 - accuracy: 0.91 - ETA: 1s - loss: 0.2310 - accuracy: 0.91 - ETA: 1s - loss: 0.2310 - accuracy: 0.91 - ETA: 1s - loss: 0.2311 - accuracy: 0.91 - ETA: 1s - loss: 0.2311 - accuracy: 0.91 - ETA: 1s - loss: 0.2310 - accuracy: 0.91 - ETA: 1s - loss: 0.2316 - accuracy: 0.91 - ETA: 0s - loss: 0.2315 - accuracy: 0.91 - ETA: 0s - loss: 0.2319 - accuracy: 0.91 - ETA: 0s - loss: 0.2318 - accuracy: 0.91 - ETA: 0s - loss: 0.2318 - accuracy: 0.91 - ETA: 0s - loss: 0.2317 - accuracy: 0.91 - ETA: 0s - loss: 0.2313 - accuracy: 0.91 - ETA: 0s - loss: 0.2314 - accuracy: 0.91 - ETA: 0s - loss: 0.2314 - accuracy: 0.91 - ETA: 0s - loss: 0.2313 - accuracy: 0.91 - ETA: 0s - loss: 0.2312 - accuracy: 0.91 - ETA: 0s - loss: 0.2311 - accuracy: 0.91 - ETA: 0s - loss: 0.2311 - accuracy: 0.91 - ETA: 0s - loss: 0.2311 - accuracy: 0.91 - ETA: 0s - loss: 0.2311 - accuracy: 0.91 - ETA: 0s - loss: 0.2310 - accuracy: 0.91 - ETA: 0s - loss: 0.2311 - accuracy: 0.91 - ETA: 0s - loss: 0.2312 - accuracy: 0.91 - ETA: 0s - loss: 0.2313 - accuracy: 0.91 - ETA: 0s - loss: 0.2313 - accuracy: 0.91 - ETA: 0s - loss: 0.2315 - accuracy: 0.91 - ETA: 0s - loss: 0.2316 - accuracy: 0.91 - ETA: 0s - loss: 0.2316 - accuracy: 0.91 - ETA: 0s - loss: 0.2316 - accuracy: 0.91 - ETA: 0s - loss: 0.2314 - accuracy: 0.91 - 9s 5ms/step - loss: 0.2312 - accuracy: 0.9128 - val_loss: 0.3363 - val_accuracy: 0.8844\n",
      "Epoch 10/10\n"
     ]
    },
    {
     "name": "stdout",
     "output_type": "stream",
     "text": [
      "1875/1875 [==============================] - ETA: 0s - loss: 0.4487 - accuracy: 0.81 - ETA: 6s - loss: 0.2984 - accuracy: 0.87 - ETA: 6s - loss: 0.2455 - accuracy: 0.89 - ETA: 6s - loss: 0.2502 - accuracy: 0.89 - ETA: 6s - loss: 0.2319 - accuracy: 0.90 - ETA: 6s - loss: 0.2254 - accuracy: 0.90 - ETA: 6s - loss: 0.2301 - accuracy: 0.90 - ETA: 5s - loss: 0.2324 - accuracy: 0.90 - ETA: 5s - loss: 0.2264 - accuracy: 0.91 - ETA: 6s - loss: 0.2262 - accuracy: 0.91 - ETA: 6s - loss: 0.2363 - accuracy: 0.90 - ETA: 6s - loss: 0.2344 - accuracy: 0.90 - ETA: 6s - loss: 0.2371 - accuracy: 0.90 - ETA: 6s - loss: 0.2341 - accuracy: 0.90 - ETA: 6s - loss: 0.2343 - accuracy: 0.90 - ETA: 6s - loss: 0.2326 - accuracy: 0.91 - ETA: 6s - loss: 0.2308 - accuracy: 0.91 - ETA: 6s - loss: 0.2320 - accuracy: 0.91 - ETA: 6s - loss: 0.2313 - accuracy: 0.91 - ETA: 6s - loss: 0.2308 - accuracy: 0.91 - ETA: 6s - loss: 0.2314 - accuracy: 0.91 - ETA: 6s - loss: 0.2335 - accuracy: 0.91 - ETA: 6s - loss: 0.2346 - accuracy: 0.91 - ETA: 6s - loss: 0.2335 - accuracy: 0.91 - ETA: 6s - loss: 0.2328 - accuracy: 0.91 - ETA: 6s - loss: 0.2330 - accuracy: 0.91 - ETA: 6s - loss: 0.2319 - accuracy: 0.91 - ETA: 6s - loss: 0.2327 - accuracy: 0.91 - ETA: 5s - loss: 0.2311 - accuracy: 0.91 - ETA: 5s - loss: 0.2297 - accuracy: 0.91 - ETA: 5s - loss: 0.2292 - accuracy: 0.91 - ETA: 5s - loss: 0.2273 - accuracy: 0.91 - ETA: 5s - loss: 0.2277 - accuracy: 0.91 - ETA: 5s - loss: 0.2271 - accuracy: 0.91 - ETA: 5s - loss: 0.2273 - accuracy: 0.91 - ETA: 5s - loss: 0.2286 - accuracy: 0.91 - ETA: 5s - loss: 0.2291 - accuracy: 0.91 - ETA: 5s - loss: 0.2290 - accuracy: 0.91 - ETA: 5s - loss: 0.2292 - accuracy: 0.91 - ETA: 5s - loss: 0.2297 - accuracy: 0.91 - ETA: 5s - loss: 0.2291 - accuracy: 0.91 - ETA: 5s - loss: 0.2292 - accuracy: 0.91 - ETA: 5s - loss: 0.2295 - accuracy: 0.91 - ETA: 5s - loss: 0.2289 - accuracy: 0.91 - ETA: 4s - loss: 0.2285 - accuracy: 0.91 - ETA: 4s - loss: 0.2285 - accuracy: 0.91 - ETA: 4s - loss: 0.2281 - accuracy: 0.91 - ETA: 4s - loss: 0.2279 - accuracy: 0.91 - ETA: 4s - loss: 0.2279 - accuracy: 0.91 - ETA: 4s - loss: 0.2274 - accuracy: 0.91 - ETA: 4s - loss: 0.2274 - accuracy: 0.91 - ETA: 4s - loss: 0.2266 - accuracy: 0.91 - ETA: 4s - loss: 0.2273 - accuracy: 0.91 - ETA: 4s - loss: 0.2266 - accuracy: 0.91 - ETA: 4s - loss: 0.2266 - accuracy: 0.91 - ETA: 4s - loss: 0.2276 - accuracy: 0.91 - ETA: 4s - loss: 0.2287 - accuracy: 0.91 - ETA: 4s - loss: 0.2288 - accuracy: 0.91 - ETA: 4s - loss: 0.2287 - accuracy: 0.91 - ETA: 4s - loss: 0.2286 - accuracy: 0.91 - ETA: 4s - loss: 0.2289 - accuracy: 0.91 - ETA: 4s - loss: 0.2289 - accuracy: 0.91 - ETA: 4s - loss: 0.2291 - accuracy: 0.91 - ETA: 4s - loss: 0.2297 - accuracy: 0.91 - ETA: 3s - loss: 0.2293 - accuracy: 0.91 - ETA: 3s - loss: 0.2291 - accuracy: 0.91 - ETA: 3s - loss: 0.2288 - accuracy: 0.91 - ETA: 3s - loss: 0.2287 - accuracy: 0.91 - ETA: 3s - loss: 0.2282 - accuracy: 0.91 - ETA: 3s - loss: 0.2282 - accuracy: 0.91 - ETA: 3s - loss: 0.2281 - accuracy: 0.91 - ETA: 3s - loss: 0.2278 - accuracy: 0.91 - ETA: 3s - loss: 0.2278 - accuracy: 0.91 - ETA: 3s - loss: 0.2281 - accuracy: 0.91 - ETA: 3s - loss: 0.2277 - accuracy: 0.91 - ETA: 3s - loss: 0.2271 - accuracy: 0.91 - ETA: 3s - loss: 0.2271 - accuracy: 0.91 - ETA: 3s - loss: 0.2270 - accuracy: 0.91 - ETA: 3s - loss: 0.2266 - accuracy: 0.91 - ETA: 3s - loss: 0.2267 - accuracy: 0.91 - ETA: 3s - loss: 0.2264 - accuracy: 0.91 - ETA: 3s - loss: 0.2262 - accuracy: 0.91 - ETA: 3s - loss: 0.2262 - accuracy: 0.91 - ETA: 3s - loss: 0.2266 - accuracy: 0.91 - ETA: 3s - loss: 0.2269 - accuracy: 0.91 - ETA: 3s - loss: 0.2266 - accuracy: 0.91 - ETA: 3s - loss: 0.2267 - accuracy: 0.91 - ETA: 3s - loss: 0.2264 - accuracy: 0.91 - ETA: 3s - loss: 0.2263 - accuracy: 0.91 - ETA: 3s - loss: 0.2266 - accuracy: 0.91 - ETA: 3s - loss: 0.2265 - accuracy: 0.91 - ETA: 2s - loss: 0.2267 - accuracy: 0.91 - ETA: 2s - loss: 0.2268 - accuracy: 0.91 - ETA: 2s - loss: 0.2265 - accuracy: 0.91 - ETA: 2s - loss: 0.2261 - accuracy: 0.91 - ETA: 2s - loss: 0.2259 - accuracy: 0.91 - ETA: 2s - loss: 0.2260 - accuracy: 0.91 - ETA: 2s - loss: 0.2256 - accuracy: 0.91 - ETA: 2s - loss: 0.2257 - accuracy: 0.91 - ETA: 2s - loss: 0.2263 - accuracy: 0.91 - ETA: 2s - loss: 0.2263 - accuracy: 0.91 - ETA: 2s - loss: 0.2260 - accuracy: 0.91 - ETA: 2s - loss: 0.2260 - accuracy: 0.91 - ETA: 2s - loss: 0.2263 - accuracy: 0.91 - ETA: 2s - loss: 0.2264 - accuracy: 0.91 - ETA: 2s - loss: 0.2259 - accuracy: 0.91 - ETA: 2s - loss: 0.2256 - accuracy: 0.91 - ETA: 2s - loss: 0.2257 - accuracy: 0.91 - ETA: 2s - loss: 0.2255 - accuracy: 0.91 - ETA: 2s - loss: 0.2253 - accuracy: 0.91 - ETA: 2s - loss: 0.2251 - accuracy: 0.91 - ETA: 1s - loss: 0.2250 - accuracy: 0.91 - ETA: 1s - loss: 0.2248 - accuracy: 0.91 - ETA: 1s - loss: 0.2250 - accuracy: 0.91 - ETA: 1s - loss: 0.2249 - accuracy: 0.91 - ETA: 1s - loss: 0.2244 - accuracy: 0.91 - ETA: 1s - loss: 0.2246 - accuracy: 0.91 - ETA: 1s - loss: 0.2244 - accuracy: 0.91 - ETA: 1s - loss: 0.2242 - accuracy: 0.91 - ETA: 1s - loss: 0.2244 - accuracy: 0.91 - ETA: 1s - loss: 0.2241 - accuracy: 0.91 - ETA: 1s - loss: 0.2240 - accuracy: 0.91 - ETA: 1s - loss: 0.2238 - accuracy: 0.91 - ETA: 1s - loss: 0.2236 - accuracy: 0.91 - ETA: 1s - loss: 0.2236 - accuracy: 0.91 - ETA: 1s - loss: 0.2233 - accuracy: 0.91 - ETA: 1s - loss: 0.2235 - accuracy: 0.91 - ETA: 1s - loss: 0.2236 - accuracy: 0.91 - ETA: 1s - loss: 0.2236 - accuracy: 0.91 - ETA: 1s - loss: 0.2236 - accuracy: 0.91 - ETA: 1s - loss: 0.2238 - accuracy: 0.91 - ETA: 1s - loss: 0.2238 - accuracy: 0.91 - ETA: 1s - loss: 0.2241 - accuracy: 0.91 - ETA: 0s - loss: 0.2240 - accuracy: 0.91 - ETA: 0s - loss: 0.2239 - accuracy: 0.91 - ETA: 0s - loss: 0.2238 - accuracy: 0.91 - ETA: 0s - loss: 0.2238 - accuracy: 0.91 - ETA: 0s - loss: 0.2240 - accuracy: 0.91 - ETA: 0s - loss: 0.2238 - accuracy: 0.91 - ETA: 0s - loss: 0.2235 - accuracy: 0.91 - ETA: 0s - loss: 0.2232 - accuracy: 0.91 - ETA: 0s - loss: 0.2235 - accuracy: 0.91 - ETA: 0s - loss: 0.2235 - accuracy: 0.91 - ETA: 0s - loss: 0.2232 - accuracy: 0.91 - ETA: 0s - loss: 0.2234 - accuracy: 0.91 - ETA: 0s - loss: 0.2233 - accuracy: 0.91 - ETA: 0s - loss: 0.2233 - accuracy: 0.91 - ETA: 0s - loss: 0.2237 - accuracy: 0.91 - ETA: 0s - loss: 0.2238 - accuracy: 0.91 - ETA: 0s - loss: 0.2237 - accuracy: 0.91 - ETA: 0s - loss: 0.2236 - accuracy: 0.91 - ETA: 0s - loss: 0.2237 - accuracy: 0.91 - 8s 4ms/step - loss: 0.2237 - accuracy: 0.9154 - val_loss: 0.3268 - val_accuracy: 0.8933\n"
     ]
    },
    {
     "data": {
      "text/plain": [
       "<tensorflow.python.keras.callbacks.History at 0x26f00929190>"
      ]
     },
     "execution_count": 11,
     "metadata": {},
     "output_type": "execute_result"
    }
   ],
   "source": [
    "# Build the model with the optimal hyperparameters and train it on the data\n",
    "model = tuner.hypermodel.build(best_hps)\n",
    "model.fit(img_train, label_train, epochs = 10, validation_data = (img_test, label_test))"
   ]
  },
  {
   "cell_type": "code",
   "execution_count": null,
   "metadata": {},
   "outputs": [],
   "source": []
  },
  {
   "cell_type": "code",
   "execution_count": null,
   "metadata": {},
   "outputs": [],
   "source": []
  },
  {
   "cell_type": "code",
   "execution_count": null,
   "metadata": {},
   "outputs": [],
   "source": []
  },
  {
   "cell_type": "code",
   "execution_count": null,
   "metadata": {},
   "outputs": [],
   "source": []
  },
  {
   "cell_type": "code",
   "execution_count": null,
   "metadata": {},
   "outputs": [],
   "source": []
  },
  {
   "cell_type": "code",
   "execution_count": null,
   "metadata": {},
   "outputs": [],
   "source": []
  },
  {
   "cell_type": "code",
   "execution_count": null,
   "metadata": {},
   "outputs": [],
   "source": []
  },
  {
   "cell_type": "code",
   "execution_count": null,
   "metadata": {},
   "outputs": [],
   "source": []
  },
  {
   "cell_type": "code",
   "execution_count": null,
   "metadata": {},
   "outputs": [],
   "source": []
  },
  {
   "cell_type": "code",
   "execution_count": null,
   "metadata": {},
   "outputs": [],
   "source": []
  },
  {
   "cell_type": "code",
   "execution_count": null,
   "metadata": {},
   "outputs": [],
   "source": []
  },
  {
   "cell_type": "code",
   "execution_count": null,
   "metadata": {},
   "outputs": [],
   "source": []
  },
  {
   "cell_type": "code",
   "execution_count": null,
   "metadata": {},
   "outputs": [],
   "source": []
  },
  {
   "cell_type": "code",
   "execution_count": null,
   "metadata": {},
   "outputs": [],
   "source": []
  },
  {
   "cell_type": "code",
   "execution_count": null,
   "metadata": {},
   "outputs": [],
   "source": []
  },
  {
   "cell_type": "code",
   "execution_count": null,
   "metadata": {},
   "outputs": [],
   "source": []
  }
 ],
 "metadata": {
  "kernelspec": {
   "display_name": "Python 3",
   "language": "python",
   "name": "python3"
  },
  "language_info": {
   "codemirror_mode": {
    "name": "ipython",
    "version": 3
   },
   "file_extension": ".py",
   "mimetype": "text/x-python",
   "name": "python",
   "nbconvert_exporter": "python",
   "pygments_lexer": "ipython3",
   "version": "3.8.1"
  }
 },
 "nbformat": 4,
 "nbformat_minor": 4
}
